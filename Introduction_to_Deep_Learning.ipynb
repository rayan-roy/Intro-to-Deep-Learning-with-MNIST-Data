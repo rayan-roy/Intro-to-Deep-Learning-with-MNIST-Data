{
  "cells": [
    {
      "cell_type": "markdown",
      "source": [
        "## **Data Science Club - Introduction to Deep Learning using MNIST Dataset**\n"
      ],
      "metadata": {
        "id": "vd_v9GuchReb"
      }
    },
    {
      "cell_type": "code",
      "execution_count": null,
      "metadata": {
        "id": "Rlp5wUW_FDmH"
      },
      "outputs": [],
      "source": [
        "# Importing the relevant packages\n",
        "import io\n",
        "import itertools\n",
        "\n",
        "import numpy as np\n",
        "import sklearn.metrics\n",
        "\n",
        "import matplotlib.pyplot as plt\n",
        "\n",
        "import tensorflow as tf\n",
        "import tensorflow_datasets as tfds"
      ]
    },
    {
      "cell_type": "markdown",
      "metadata": {
        "id": "Zeq5QHxo743q"
      },
      "source": [
        "## Downloading and preprocessing the data"
      ]
    },
    {
      "cell_type": "code",
      "execution_count": null,
      "metadata": {
        "id": "9S6uGLzkFDmP"
      },
      "outputs": [],
      "source": [
        "# Defining some constants/hyperparameters\n",
        "BUFFER_SIZE = 70_000 # for reshuffling\n",
        "BATCH_SIZE = 128\n",
        "NUM_EPOCHS = 20"
      ]
    },
    {
      "cell_type": "code",
      "execution_count": null,
      "metadata": {
        "colab": {
          "base_uri": "https://localhost:8080/",
          "height": 208,
          "referenced_widgets": [
            "043d9aa76f674d598ab93e4ba3c88192",
            "31a46a0b63474ec8a267868a9f8310e1",
            "6a959e6a372b4d008a211295081583b4",
            "ee94ae52261f4e3aab3e365b251ee043",
            "efcc62c3cca54751a8b6a1d06dfe917c",
            "123a2b7555dd48b8983d4c3ecbc0d604",
            "13a0506a266945c09567b12e9e9fd21e",
            "fef64693ad26419992226621e66b42dc",
            "ed469b9a242749c0992ac310f1caf810",
            "6000961787e34e25ac861c3e04731fc0",
            "be907cfcf9fc461bb4758468436bb06c"
          ]
        },
        "id": "nqRkT9aQ744H",
        "outputId": "c79cbae9-1d5b-4570-a210-3a1017436d4f"
      },
      "outputs": [
        {
          "name": "stdout",
          "output_type": "stream",
          "text": [
            "\u001b[1mDownloading and preparing dataset mnist/3.0.1 (download: 11.06 MiB, generated: 21.00 MiB, total: 32.06 MiB) to /root/tensorflow_datasets/mnist/3.0.1...\u001b[0m\n"
          ]
        },
        {
          "name": "stderr",
          "output_type": "stream",
          "text": [
            "WARNING:absl:Dataset mnist is hosted on GCS. It will automatically be downloaded to your\n",
            "local data directory. If you'd instead prefer to read directly from our public\n",
            "GCS bucket (recommended if you're running on GCP), you can instead pass\n",
            "`try_gcs=True` to `tfds.load` or set `data_dir=gs://tfds-data/datasets`.\n",
            "\n"
          ]
        },
        {
          "data": {
            "application/vnd.jupyter.widget-view+json": {
              "model_id": "043d9aa76f674d598ab93e4ba3c88192",
              "version_major": 2,
              "version_minor": 0
            },
            "text/plain": [
              "Dl Completed...:   0%|          | 0/4 [00:00<?, ? file/s]"
            ]
          },
          "metadata": {},
          "output_type": "display_data"
        },
        {
          "name": "stdout",
          "output_type": "stream",
          "text": [
            "\n",
            "\u001b[1mDataset mnist downloaded and prepared to /root/tensorflow_datasets/mnist/3.0.1. Subsequent calls will reuse this data.\u001b[0m\n"
          ]
        }
      ],
      "source": [
        "# Downloading the MNIST dataset\n",
        "mnist_dataset, mnist_info = tfds.load(name='mnist', with_info=True, as_supervised=True)"
      ]
    },
    {
      "cell_type": "code",
      "execution_count": null,
      "metadata": {
        "id": "ONEO5hoa744I"
      },
      "outputs": [],
      "source": [
        "# Extract the train and test set\n",
        "mnist_train, mnist_test = mnist_dataset['train'], mnist_dataset['test']"
      ]
    },
    {
      "cell_type": "code",
      "execution_count": null,
      "metadata": {
        "id": "4arsL5RP744J"
      },
      "outputs": [],
      "source": [
        "# Note that black and white images are in [0,255] with 255 being white and 0 being black. So we need to rescale in range of [0,1]\n",
        "# Creating a function to scale our data\n",
        "def scale(image, label):\n",
        "    image = tf.cast(image, tf.float32)\n",
        "    image /= 255.\n",
        "\n",
        "    return image, label"
      ]
    },
    {
      "cell_type": "code",
      "execution_count": null,
      "metadata": {
        "id": "GtnsM0rt744b"
      },
      "outputs": [],
      "source": [
        "# Scaling the data\n",
        "train_and_validation_data = mnist_train.map(scale)\n",
        "test_data = mnist_test.map(scale)"
      ]
    },
    {
      "cell_type": "code",
      "execution_count": null,
      "metadata": {
        "id": "nGu5P5vu744r"
      },
      "outputs": [],
      "source": [
        "# Defining the size of validation set (we use 20% of trainset as validation)\n",
        "num_validation_samples = 0.2 * mnist_info.splits['train'].num_examples\n",
        "num_validation_samples = tf.cast(num_validation_samples, tf.int64)"
      ]
    },
    {
      "cell_type": "code",
      "execution_count": null,
      "metadata": {
        "id": "fJyFKo70744x"
      },
      "outputs": [],
      "source": [
        "# Defining size of test set\n",
        "num_test_samples = mnist_info.splits['test'].num_examples\n",
        "num_test_samples = tf.cast(num_test_samples, tf.int64)"
      ]
    },
    {
      "cell_type": "code",
      "execution_count": null,
      "metadata": {
        "id": "A6o5WyhL7442"
      },
      "outputs": [],
      "source": [
        "# Reshuffling the dataset (I want to reshuffle the data in order to main consistency)\n",
        "train_and_validation_data = train_and_validation_data.shuffle(BUFFER_SIZE)"
      ]
    },
    {
      "cell_type": "code",
      "execution_count": null,
      "metadata": {
        "id": "3kaquwMb7445"
      },
      "outputs": [],
      "source": [
        "# Splitting the dataset into training + validation\n",
        "train_data = train_and_validation_data.skip(num_validation_samples)\n",
        "validation_data = train_and_validation_data.take(num_validation_samples)"
      ]
    },
    {
      "cell_type": "code",
      "execution_count": null,
      "metadata": {
        "id": "u2AsLIPQ7448"
      },
      "outputs": [],
      "source": [
        "# Batching the data \n",
        "# Will do if I get time (but batching is one of the hyperparameters I can tune)\n",
        "train_data = train_data.batch(BATCH_SIZE)\n",
        "# The above line is done because we will be back propagating too on train if I get time\n",
        "\n",
        "validation_data = validation_data.batch(num_validation_samples)\n",
        "test_data = test_data.batch(num_test_samples)"
      ]
    },
    {
      "cell_type": "markdown",
      "metadata": {
        "id": "Q8iLsqxZ745B"
      },
      "source": [
        "## Building the model and training it"
      ]
    },
    {
      "cell_type": "code",
      "execution_count": null,
      "metadata": {
        "id": "UtQINJq_745C"
      },
      "outputs": [],
      "source": [
        "# Now that we have preprocessed the dataset, we can define our CNN and train it"
      ]
    },
    {
      "cell_type": "code",
      "execution_count": null,
      "metadata": {
        "id": "Akw466aP745D"
      },
      "outputs": [],
      "source": [
        "# Outlining the model/architecture of our CNN\n",
        "\n",
        "# Since we only given 3 layers to train, I will use the conv2d layer, max pool\n",
        "# layer and the flatten layer. The dense layer will be only use to make 10 \n",
        "# predictions\n",
        "\n",
        "model = tf.keras.Sequential([\n",
        "    tf.keras.layers.Conv2D(50, 5, activation='relu', input_shape=(28, 28, 1)),\n",
        "    tf.keras.layers.MaxPooling2D(pool_size=(2,2)),\n",
        "    tf.keras.layers.Flatten(),\n",
        "    tf.keras.layers.Dense(10)\n",
        "])"
      ]
    },
    {
      "cell_type": "code",
      "execution_count": null,
      "metadata": {
        "colab": {
          "base_uri": "https://localhost:8080/"
        },
        "id": "0Y52KZ8F745E",
        "outputId": "8d7b0a7d-e817-4c27-f94d-08d1d61f3359"
      },
      "outputs": [
        {
          "name": "stdout",
          "output_type": "stream",
          "text": [
            "Model: \"sequential\"\n",
            "___________________________________________________________________________\n",
            " Layer (type)                    Output Shape                  Param #     \n",
            "===========================================================================\n",
            " conv2d (Conv2D)                 (None, 24, 24, 50)            1300        \n",
            "                                                                           \n",
            " max_pooling2d (MaxPooling2D)    (None, 12, 12, 50)            0           \n",
            "                                                                           \n",
            " flatten (Flatten)               (None, 7200)                  0           \n",
            "                                                                           \n",
            " dense (Dense)                   (None, 10)                    72010       \n",
            "                                                                           \n",
            "===========================================================================\n",
            "Total params: 73,310\n",
            "Trainable params: 73,310\n",
            "Non-trainable params: 0\n",
            "___________________________________________________________________________\n"
          ]
        }
      ],
      "source": [
        "# A brief summary of the model and parameters\n",
        "model.summary(line_length = 75)"
      ]
    },
    {
      "cell_type": "code",
      "execution_count": null,
      "metadata": {
        "id": "Jk7znXf-745I"
      },
      "outputs": [],
      "source": [
        "# Defining the loss function\n",
        "loss_fn = tf.keras.losses.SparseCategoricalCrossentropy(from_logits=True)"
      ]
    },
    {
      "cell_type": "code",
      "execution_count": null,
      "metadata": {
        "id": "CNYl29-8745J"
      },
      "outputs": [],
      "source": [
        "# Compiling the model with Adam optimizer and the cathegorical crossentropy as a loss function\n",
        "model.compile(optimizer='adam', loss=loss_fn, metrics=['accuracy'])"
      ]
    },
    {
      "cell_type": "code",
      "execution_count": null,
      "metadata": {
        "id": "WG6adE6C745P"
      },
      "outputs": [],
      "source": [
        "def plot_confusion_matrix(cm, class_names):\n",
        "    \"\"\"\n",
        "    Returns a matplotlib figure containing the plotted confusion matrix.\n",
        "\n",
        "    Args:\n",
        "    cm (array, shape = [n, n]): a confusion matrix of integer classes\n",
        "    class_names (array, shape = [n]): String names of the integer classes\n",
        "    \"\"\"\n",
        "    figure = plt.figure(figsize=(12, 12))\n",
        "    plt.imshow(cm, interpolation='nearest', cmap=plt.cm.Blues)\n",
        "    plt.title(\"Confusion matrix\")\n",
        "    plt.colorbar()\n",
        "    tick_marks = np.arange(len(class_names))\n",
        "    plt.xticks(tick_marks, class_names, rotation=45)\n",
        "    plt.yticks(tick_marks, class_names)\n",
        "\n",
        "    # Normalize the confusion matrix.\n",
        "    cm = np.around(cm.astype('float') / cm.sum(axis=1)[:, np.newaxis], decimals=2)\n",
        "\n",
        "    # Use white text if squares are dark; otherwise black.\n",
        "    threshold = cm.max() / 2.\n",
        "    for i, j in itertools.product(range(cm.shape[0]), range(cm.shape[1])):\n",
        "        color = \"white\" if cm[i, j] > threshold else \"black\"\n",
        "        plt.text(j, i, cm[i, j], horizontalalignment=\"center\", color=color)\n",
        "\n",
        "    plt.tight_layout()\n",
        "    plt.ylabel('True label')\n",
        "    plt.xlabel('Predicted label')\n",
        "    \n",
        "    return figure"
      ]
    },
    {
      "cell_type": "code",
      "execution_count": null,
      "metadata": {
        "id": "B_7YR9my745P"
      },
      "outputs": [],
      "source": [
        "def plot_to_image(figure):\n",
        "    \"\"\"Converts the matplotlib plot specified by 'figure' to a PNG image and\n",
        "    returns it. The supplied figure is closed and inaccessible after this call.\"\"\"\n",
        "    \n",
        "    # Save the plot to a PNG in memory.\n",
        "    buf = io.BytesIO()\n",
        "    plt.savefig(buf, format='png')\n",
        "    \n",
        "    # Closing the figure prevents it from being displayed directly inside the notebook.\n",
        "    plt.close(figure)\n",
        "    \n",
        "    buf.seek(0)\n",
        "    \n",
        "    # Convert PNG buffer to TF image\n",
        "    image = tf.image.decode_png(buf.getvalue(), channels=4)\n",
        "    \n",
        "    # Add the batch dimension\n",
        "    image = tf.expand_dims(image, 0)\n",
        "    \n",
        "    return image"
      ]
    },
    {
      "cell_type": "code",
      "execution_count": null,
      "metadata": {
        "id": "Z9kH9ZwH745c"
      },
      "outputs": [],
      "source": [
        "# Defining early stopping to prevent overfitting\n",
        "early_stopping = tf.keras.callbacks.EarlyStopping(\n",
        "    monitor = 'val_loss',\n",
        "    mode = 'auto',\n",
        "    min_delta = 0,\n",
        "    patience = 2,\n",
        "    verbose = 0, \n",
        "    restore_best_weights = True\n",
        ")"
      ]
    },
    {
      "cell_type": "code",
      "execution_count": null,
      "metadata": {
        "colab": {
          "base_uri": "https://localhost:8080/"
        },
        "id": "JCF52pPY745e",
        "outputId": "d38597c9-2bbe-4b22-9a84-920cab54ec6b"
      },
      "outputs": [
        {
          "output_type": "stream",
          "name": "stdout",
          "text": [
            "Epoch 1/20\n",
            "375/375 - 30s - loss: 1.3019 - accuracy: 0.9361 - val_loss: 1.4719 - val_accuracy: 0.9523 - 30s/epoch - 80ms/step\n",
            "Epoch 2/20\n",
            "375/375 - 45s - loss: 1.4336 - accuracy: 0.9273 - val_loss: 1.4289 - val_accuracy: 0.9450 - 45s/epoch - 119ms/step\n",
            "Epoch 3/20\n",
            "375/375 - 30s - loss: 1.2817 - accuracy: 0.9308 - val_loss: 1.2036 - val_accuracy: 0.9256 - 30s/epoch - 81ms/step\n",
            "Epoch 4/20\n",
            "375/375 - 31s - loss: 1.1535 - accuracy: 0.9155 - val_loss: 1.1916 - val_accuracy: 0.9090 - 31s/epoch - 82ms/step\n",
            "Epoch 5/20\n",
            "375/375 - 30s - loss: 1.0931 - accuracy: 0.9121 - val_loss: 1.0578 - val_accuracy: 0.9097 - 30s/epoch - 81ms/step\n",
            "Epoch 6/20\n",
            "375/375 - 30s - loss: 1.4228 - accuracy: 0.8831 - val_loss: 1.4178 - val_accuracy: 0.8971 - 30s/epoch - 81ms/step\n",
            "Epoch 7/20\n",
            "375/375 - 31s - loss: 1.5224 - accuracy: 0.9062 - val_loss: 1.6034 - val_accuracy: 0.9125 - 31s/epoch - 82ms/step\n"
          ]
        }
      ],
      "source": [
        "# Train the network\n",
        "mfit = model.fit(\n",
        "    train_data, \n",
        "    epochs = NUM_EPOCHS, \n",
        "    callbacks = [early_stopping], \n",
        "    validation_data = validation_data,\n",
        "    verbose = 2\n",
        ")\n",
        "\n",
        "# We can see after epoch 7, the model stopped running. It is because after \n",
        "# epoch 7, the model was overfitting (and to prevent we implemented early stopping)"
      ]
    },
    {
      "cell_type": "markdown",
      "source": [
        "## Question 2 Solution: Plot of classification accuracy and losses (validation and training set) during training."
      ],
      "metadata": {
        "id": "3XQ6f8gcLZID"
      }
    },
    {
      "cell_type": "code",
      "source": [
        "accuracy = mfit.history['accuracy']\n",
        "val_accuracy = mfit.history['val_accuracy']\n",
        "loss = mfit.history['loss']\n",
        "val_loss = mfit.history['val_loss']\n",
        "epochs = range(len(accuracy))\n",
        "plt.plot(epochs, accuracy, 'bo', label='Training accuracy')\n",
        "plt.plot(epochs, val_accuracy, 'b', label='Validation accuracy')\n",
        "plt.title('Training and validation accuracy')\n",
        "plt.legend()\n",
        "plt.figure()\n",
        "plt.plot(epochs, loss, 'bo', label='Training loss')\n",
        "plt.plot(epochs, val_loss, 'b', label='Validation loss')\n",
        "plt.title('Training and validation loss')\n",
        "plt.legend()\n",
        "plt.show()"
      ],
      "metadata": {
        "colab": {
          "base_uri": "https://localhost:8080/",
          "height": 545
        },
        "id": "87c9N7jVLMoc",
        "outputId": "ab507e72-79b6-476f-ed82-02ebd0ac0234"
      },
      "execution_count": null,
      "outputs": [
        {
          "output_type": "display_data",
          "data": {
            "image/png": "[encoded data removed]",
            "text/plain": [
              "<Figure size 432x288 with 1 Axes>"
            ]
          },
          "metadata": {
            "needs_background": "light"
          }
        },
        {
          "output_type": "display_data",
          "data": {
            "image/png": "[encoded data removed]",
            "text/plain": [
              "<Figure size 432x288 with 1 Axes>"
            ]
          },
          "metadata": {
            "needs_background": "light"
          }
        }
      ]
    },
    {
      "cell_type": "markdown",
      "source": [
        "## Q2: Confusion matrix for validation set"
      ],
      "metadata": {
        "id": "8ZQuScdHMB4H"
      }
    },
    {
      "cell_type": "code",
      "source": [
        "# Extracting the numpy arrays from the validation data for the calculation of the Confusion Matrix\n",
        "for images, labels in validation_data:\n",
        "    images_val = images.numpy()\n",
        "    labels_val = labels.numpy()"
      ],
      "metadata": {
        "id": "hjPxtfPqOSUz"
      },
      "execution_count": null,
      "outputs": []
    },
    {
      "cell_type": "code",
      "source": [
        "from matplotlib import figure\n",
        "\n",
        "valid_pred_raw = model.predict(images_val)\n",
        "valid_pred = np.argmax(valid_pred_raw, axis=1)\n",
        "\n",
        "# Calculate the confusion matrix.\n",
        "cm = sklearn.metrics.confusion_matrix(labels_val, valid_pred)\n",
        "\n",
        "# Log the confusion matrix as an image summary.\n",
        "figure = plot_confusion_matrix(cm, class_names=['0', '1', '2', '3', '4', '5', '6', '7', '8', '9'])\n",
        "cm_image = plot_to_image(figure)\n",
        "figure"
      ],
      "metadata": {
        "colab": {
          "base_uri": "https://localhost:8080/",
          "height": 873
        },
        "id": "hcYlYf4yMzAM",
        "outputId": "028455be-896d-40e8-b200-8980ad98f101"
      },
      "execution_count": null,
      "outputs": [
        {
          "output_type": "execute_result",
          "data": {
            "image/png": "[encoded data removed]",
            "text/plain": [
              "<Figure size 864x864 with 2 Axes>"
            ]
          },
          "metadata": {},
          "execution_count": 38
        }
      ]
    },
    {
      "cell_type": "markdown",
      "source": [
        "## Q2: Confusion matrix for train set"
      ],
      "metadata": {
        "id": "1DM69N9IOfE2"
      }
    },
    {
      "cell_type": "code",
      "source": [
        "for images, labels in train_data:\n",
        "    images_train = images.numpy()\n",
        "    labels_train = labels.numpy()"
      ],
      "metadata": {
        "id": "1ROSS08gOip4"
      },
      "execution_count": null,
      "outputs": []
    },
    {
      "cell_type": "code",
      "source": [
        "from matplotlib import figure\n",
        "\n",
        "train_pred_raw = model.predict(images_train)\n",
        "train_pred = np.argmax(train_pred_raw, axis=1)\n",
        "\n",
        "# Calculate the confusion matrix.\n",
        "cm = sklearn.metrics.confusion_matrix(labels_train, train_pred)\n",
        "\n",
        "# Log the confusion matrix as an image summary.\n",
        "figure = plot_confusion_matrix(cm, class_names=['0', '1', '2', '3', '4', '5', '6', '7', '8', '9'])\n",
        "cm_image = plot_to_image(figure)\n",
        "figure"
      ],
      "metadata": {
        "colab": {
          "base_uri": "https://localhost:8080/",
          "height": 873
        },
        "id": "xRHSXguyOivg",
        "outputId": "53b831e5-dbc2-45c1-a450-ab1e021db119"
      },
      "execution_count": null,
      "outputs": [
        {
          "output_type": "execute_result",
          "data": {
            "image/png": "[encoded data removed]",
            "text/plain": [
              "<Figure size 864x864 with 2 Axes>"
            ]
          },
          "metadata": {},
          "execution_count": 53
        }
      ]
    },
    {
      "cell_type": "markdown",
      "source": [
        "## Q3: Classification metrics (Precision, Recall, f1-scores) for test sets."
      ],
      "metadata": {
        "id": "JLLVJdkdSBL7"
      }
    },
    {
      "cell_type": "code",
      "source": [
        "from sklearn.metrics import classification_report\n",
        "\n",
        "for images, labels in test_data:\n",
        "    images_test = images.numpy()\n",
        "    labels_test = labels.numpy()\n",
        "\n",
        "predicted_classes = model.predict(images_test)\n",
        "predicted_classes = np.argmax(predicted_classes, axis=1)\n",
        "\n",
        "print(classification_report(labels_test, predicted_classes))"
      ],
      "metadata": {
        "colab": {
          "base_uri": "https://localhost:8080/"
        },
        "id": "oKxsXI2iQjEA",
        "outputId": "da2a244b-5182-42da-81d6-5e7cee8550fc"
      },
      "execution_count": null,
      "outputs": [
        {
          "output_type": "stream",
          "name": "stdout",
          "text": [
            "              precision    recall  f1-score   support\n",
            "\n",
            "           0       0.92      0.99      0.95       980\n",
            "           1       0.92      1.00      0.96      1135\n",
            "           2       0.88      0.90      0.89      1032\n",
            "           3       0.82      0.99      0.89      1010\n",
            "           4       0.96      0.98      0.97       982\n",
            "           5       0.79      0.97      0.87       892\n",
            "           6       0.96      0.97      0.97       958\n",
            "           7       0.97      0.94      0.95      1028\n",
            "           8       1.00      0.42      0.59       974\n",
            "           9       0.95      0.89      0.92      1009\n",
            "\n",
            "    accuracy                           0.91     10000\n",
            "   macro avg       0.92      0.91      0.90     10000\n",
            "weighted avg       0.92      0.91      0.90     10000\n",
            "\n"
          ]
        }
      ]
    },
    {
      "cell_type": "markdown",
      "source": [
        "## Q3: Classification metrics (Precision, Recall, f1-scores) for train sets."
      ],
      "metadata": {
        "id": "FAQqlEJ6SP-g"
      }
    },
    {
      "cell_type": "code",
      "source": [
        "for images, labels in train_data:\n",
        "    images_train = images.numpy()\n",
        "    labels_train = labels.numpy()\n",
        "\n",
        "train_pred_raw = model.predict(images_train)\n",
        "train_pred = np.argmax(train_pred_raw, axis=1)\n",
        "\n",
        "print(classification_report(labels_test, predicted_classes))"
      ],
      "metadata": {
        "colab": {
          "base_uri": "https://localhost:8080/"
        },
        "id": "NJUXcrFlST60",
        "outputId": "ecd510b1-66df-493b-a776-d51e615c6799"
      },
      "execution_count": null,
      "outputs": [
        {
          "output_type": "stream",
          "name": "stdout",
          "text": [
            "              precision    recall  f1-score   support\n",
            "\n",
            "           0       0.92      0.99      0.95       980\n",
            "           1       0.92      1.00      0.96      1135\n",
            "           2       0.88      0.90      0.89      1032\n",
            "           3       0.82      0.99      0.89      1010\n",
            "           4       0.96      0.98      0.97       982\n",
            "           5       0.79      0.97      0.87       892\n",
            "           6       0.96      0.97      0.97       958\n",
            "           7       0.97      0.94      0.95      1028\n",
            "           8       1.00      0.42      0.59       974\n",
            "           9       0.95      0.89      0.92      1009\n",
            "\n",
            "    accuracy                           0.91     10000\n",
            "   macro avg       0.92      0.91      0.90     10000\n",
            "weighted avg       0.92      0.91      0.90     10000\n",
            "\n"
          ]
        }
      ]
    },
    {
      "cell_type": "markdown",
      "metadata": {
        "id": "9DJ2bWqY745l"
      },
      "source": [
        "## Question 5: Testing our model"
      ]
    },
    {
      "cell_type": "code",
      "execution_count": null,
      "metadata": {
        "colab": {
          "base_uri": "https://localhost:8080/"
        },
        "id": "nFoXl2txFDmV",
        "outputId": "5c8ba929-0faa-4d4b-eba8-d55fc1ea1f57",
        "scrolled": true
      },
      "outputs": [
        {
          "name": "stdout",
          "output_type": "stream",
          "text": [
            "1/1 [==============================] - 2s 2s/step - loss: 0.0425 - accuracy: 0.9884\n"
          ]
        }
      ],
      "source": [
        "# Testing our model\n",
        "test_loss, test_accuracy = model.evaluate(test_data)"
      ]
    },
    {
      "cell_type": "code",
      "execution_count": null,
      "metadata": {
        "colab": {
          "base_uri": "https://localhost:8080/"
        },
        "id": "m8TRE-bO745m",
        "outputId": "748f36d1-eda3-46fe-b217-a394fbbc76a2"
      },
      "outputs": [
        {
          "name": "stdout",
          "output_type": "stream",
          "text": [
            "Test loss: 0.0425. Test accuracy: 98.84%\n"
          ]
        }
      ],
      "source": [
        "# Printing the test results\n",
        "print('Test loss: {0:.4f}. Test accuracy: {1:.2f}%'.format(test_loss, test_accuracy*100.))"
      ]
    }
  ],
  "metadata": {
    "colab": {
      "collapsed_sections": [],
      "name": "Introduction to Deep Learning.ipynb",
      "provenance": []
    },
    "kernelspec": {
      "display_name": "Python 3",
      "language": "python",
      "name": "python3"
    },
    "language_info": {
      "codemirror_mode": {
        "name": "ipython",
        "version": 3
      },
      "file_extension": ".py",
      "mimetype": "text/x-python",
      "name": "python",
      "nbconvert_exporter": "python",
      "pygments_lexer": "ipython3",
      "version": "3.7.3"
    },
    "widgets": {
      "application/vnd.jupyter.widget-state+json": {
        "043d9aa76f674d598ab93e4ba3c88192": {
          "model_module": "@jupyter-widgets/controls",
          "model_module_version": "1.5.0",
          "model_name": "HBoxModel",
          "state": {
            "_dom_classes": [],
            "_model_module": "@jupyter-widgets/controls",
            "_model_module_version": "1.5.0",
            "_model_name": "HBoxModel",
            "_view_count": null,
            "_view_module": "@jupyter-widgets/controls",
            "_view_module_version": "1.5.0",
            "_view_name": "HBoxView",
            "box_style": "",
            "children": [
              "IPY_MODEL_31a46a0b63474ec8a267868a9f8310e1",
              "IPY_MODEL_6a959e6a372b4d008a211295081583b4",
              "IPY_MODEL_ee94ae52261f4e3aab3e365b251ee043"
            ],
            "layout": "IPY_MODEL_efcc62c3cca54751a8b6a1d06dfe917c"
          }
        },
        "123a2b7555dd48b8983d4c3ecbc0d604": {
          "model_module": "@jupyter-widgets/base",
          "model_module_version": "1.2.0",
          "model_name": "LayoutModel",
          "state": {
            "_model_module": "@jupyter-widgets/base",
            "_model_module_version": "1.2.0",
            "_model_name": "LayoutModel",
            "_view_count": null,
            "_view_module": "@jupyter-widgets/base",
            "_view_module_version": "1.2.0",
            "_view_name": "LayoutView",
            "align_content": null,
            "align_items": null,
            "align_self": null,
            "border": null,
            "bottom": null,
            "display": null,
            "flex": null,
            "flex_flow": null,
            "grid_area": null,
            "grid_auto_columns": null,
            "grid_auto_flow": null,
            "grid_auto_rows": null,
            "grid_column": null,
            "grid_gap": null,
            "grid_row": null,
            "grid_template_areas": null,
            "grid_template_columns": null,
            "grid_template_rows": null,
            "height": null,
            "justify_content": null,
            "justify_items": null,
            "left": null,
            "margin": null,
            "max_height": null,
            "max_width": null,
            "min_height": null,
            "min_width": null,
            "object_fit": null,
            "object_position": null,
            "order": null,
            "overflow": null,
            "overflow_x": null,
            "overflow_y": null,
            "padding": null,
            "right": null,
            "top": null,
            "visibility": null,
            "width": null
          }
        },
        "13a0506a266945c09567b12e9e9fd21e": {
          "model_module": "@jupyter-widgets/controls",
          "model_module_version": "1.5.0",
          "model_name": "DescriptionStyleModel",
          "state": {
            "_model_module": "@jupyter-widgets/controls",
            "_model_module_version": "1.5.0",
            "_model_name": "DescriptionStyleModel",
            "_view_count": null,
            "_view_module": "@jupyter-widgets/base",
            "_view_module_version": "1.2.0",
            "_view_name": "StyleView",
            "description_width": ""
          }
        },
        "31a46a0b63474ec8a267868a9f8310e1": {
          "model_module": "@jupyter-widgets/controls",
          "model_module_version": "1.5.0",
          "model_name": "HTMLModel",
          "state": {
            "_dom_classes": [],
            "_model_module": "@jupyter-widgets/controls",
            "_model_module_version": "1.5.0",
            "_model_name": "HTMLModel",
            "_view_count": null,
            "_view_module": "@jupyter-widgets/controls",
            "_view_module_version": "1.5.0",
            "_view_name": "HTMLView",
            "description": "",
            "description_tooltip": null,
            "layout": "IPY_MODEL_123a2b7555dd48b8983d4c3ecbc0d604",
            "placeholder": "​",
            "style": "IPY_MODEL_13a0506a266945c09567b12e9e9fd21e",
            "value": "Dl Completed...: 100%"
          }
        },
        "6000961787e34e25ac861c3e04731fc0": {
          "model_module": "@jupyter-widgets/base",
          "model_module_version": "1.2.0",
          "model_name": "LayoutModel",
          "state": {
            "_model_module": "@jupyter-widgets/base",
            "_model_module_version": "1.2.0",
            "_model_name": "LayoutModel",
            "_view_count": null,
            "_view_module": "@jupyter-widgets/base",
            "_view_module_version": "1.2.0",
            "_view_name": "LayoutView",
            "align_content": null,
            "align_items": null,
            "align_self": null,
            "border": null,
            "bottom": null,
            "display": null,
            "flex": null,
            "flex_flow": null,
            "grid_area": null,
            "grid_auto_columns": null,
            "grid_auto_flow": null,
            "grid_auto_rows": null,
            "grid_column": null,
            "grid_gap": null,
            "grid_row": null,
            "grid_template_areas": null,
            "grid_template_columns": null,
            "grid_template_rows": null,
            "height": null,
            "justify_content": null,
            "justify_items": null,
            "left": null,
            "margin": null,
            "max_height": null,
            "max_width": null,
            "min_height": null,
            "min_width": null,
            "object_fit": null,
            "object_position": null,
            "order": null,
            "overflow": null,
            "overflow_x": null,
            "overflow_y": null,
            "padding": null,
            "right": null,
            "top": null,
            "visibility": null,
            "width": null
          }
        },
        "6a959e6a372b4d008a211295081583b4": {
          "model_module": "@jupyter-widgets/controls",
          "model_module_version": "1.5.0",
          "model_name": "FloatProgressModel",
          "state": {
            "_dom_classes": [],
            "_model_module": "@jupyter-widgets/controls",
            "_model_module_version": "1.5.0",
            "_model_name": "FloatProgressModel",
            "_view_count": null,
            "_view_module": "@jupyter-widgets/controls",
            "_view_module_version": "1.5.0",
            "_view_name": "ProgressView",
            "bar_style": "success",
            "description": "",
            "description_tooltip": null,
            "layout": "IPY_MODEL_fef64693ad26419992226621e66b42dc",
            "max": 4,
            "min": 0,
            "orientation": "horizontal",
            "style": "IPY_MODEL_ed469b9a242749c0992ac310f1caf810",
            "value": 4
          }
        },
        "be907cfcf9fc461bb4758468436bb06c": {
          "model_module": "@jupyter-widgets/controls",
          "model_module_version": "1.5.0",
          "model_name": "DescriptionStyleModel",
          "state": {
            "_model_module": "@jupyter-widgets/controls",
            "_model_module_version": "1.5.0",
            "_model_name": "DescriptionStyleModel",
            "_view_count": null,
            "_view_module": "@jupyter-widgets/base",
            "_view_module_version": "1.2.0",
            "_view_name": "StyleView",
            "description_width": ""
          }
        },
        "ed469b9a242749c0992ac310f1caf810": {
          "model_module": "@jupyter-widgets/controls",
          "model_module_version": "1.5.0",
          "model_name": "ProgressStyleModel",
          "state": {
            "_model_module": "@jupyter-widgets/controls",
            "_model_module_version": "1.5.0",
            "_model_name": "ProgressStyleModel",
            "_view_count": null,
            "_view_module": "@jupyter-widgets/base",
            "_view_module_version": "1.2.0",
            "_view_name": "StyleView",
            "bar_color": null,
            "description_width": ""
          }
        },
        "ee94ae52261f4e3aab3e365b251ee043": {
          "model_module": "@jupyter-widgets/controls",
          "model_module_version": "1.5.0",
          "model_name": "HTMLModel",
          "state": {
            "_dom_classes": [],
            "_model_module": "@jupyter-widgets/controls",
            "_model_module_version": "1.5.0",
            "_model_name": "HTMLModel",
            "_view_count": null,
            "_view_module": "@jupyter-widgets/controls",
            "_view_module_version": "1.5.0",
            "_view_name": "HTMLView",
            "description": "",
            "description_tooltip": null,
            "layout": "IPY_MODEL_6000961787e34e25ac861c3e04731fc0",
            "placeholder": "​",
            "style": "IPY_MODEL_be907cfcf9fc461bb4758468436bb06c",
            "value": " 4/4 [00:00&lt;00:00, 11.53 file/s]"
          }
        },
        "efcc62c3cca54751a8b6a1d06dfe917c": {
          "model_module": "@jupyter-widgets/base",
          "model_module_version": "1.2.0",
          "model_name": "LayoutModel",
          "state": {
            "_model_module": "@jupyter-widgets/base",
            "_model_module_version": "1.2.0",
            "_model_name": "LayoutModel",
            "_view_count": null,
            "_view_module": "@jupyter-widgets/base",
            "_view_module_version": "1.2.0",
            "_view_name": "LayoutView",
            "align_content": null,
            "align_items": null,
            "align_self": null,
            "border": null,
            "bottom": null,
            "display": null,
            "flex": null,
            "flex_flow": null,
            "grid_area": null,
            "grid_auto_columns": null,
            "grid_auto_flow": null,
            "grid_auto_rows": null,
            "grid_column": null,
            "grid_gap": null,
            "grid_row": null,
            "grid_template_areas": null,
            "grid_template_columns": null,
            "grid_template_rows": null,
            "height": null,
            "justify_content": null,
            "justify_items": null,
            "left": null,
            "margin": null,
            "max_height": null,
            "max_width": null,
            "min_height": null,
            "min_width": null,
            "object_fit": null,
            "object_position": null,
            "order": null,
            "overflow": null,
            "overflow_x": null,
            "overflow_y": null,
            "padding": null,
            "right": null,
            "top": null,
            "visibility": null,
            "width": null
          }
        },
        "fef64693ad26419992226621e66b42dc": {
          "model_module": "@jupyter-widgets/base",
          "model_module_version": "1.2.0",
          "model_name": "LayoutModel",
          "state": {
            "_model_module": "@jupyter-widgets/base",
            "_model_module_version": "1.2.0",
            "_model_name": "LayoutModel",
            "_view_count": null,
            "_view_module": "@jupyter-widgets/base",
            "_view_module_version": "1.2.0",
            "_view_name": "LayoutView",
            "align_content": null,
            "align_items": null,
            "align_self": null,
            "border": null,
            "bottom": null,
            "display": null,
            "flex": null,
            "flex_flow": null,
            "grid_area": null,
            "grid_auto_columns": null,
            "grid_auto_flow": null,
            "grid_auto_rows": null,
            "grid_column": null,
            "grid_gap": null,
            "grid_row": null,
            "grid_template_areas": null,
            "grid_template_columns": null,
            "grid_template_rows": null,
            "height": null,
            "justify_content": null,
            "justify_items": null,
            "left": null,
            "margin": null,
            "max_height": null,
            "max_width": null,
            "min_height": null,
            "min_width": null,
            "object_fit": null,
            "object_position": null,
            "order": null,
            "overflow": null,
            "overflow_x": null,
            "overflow_y": null,
            "padding": null,
            "right": null,
            "top": null,
            "visibility": null,
            "width": null
          }
        }
      }
    }
  },
  "nbformat": 4,
  "nbformat_minor": 0
}