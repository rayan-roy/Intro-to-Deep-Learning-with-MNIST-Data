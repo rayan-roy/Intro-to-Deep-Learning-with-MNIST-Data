{
  "nbformat": 4,
  "nbformat_minor": 0,
  "metadata": {
    "colab": {
      "name": "Fraud Detection.ipynb",
      "provenance": []
    },
    "kernelspec": {
      "name": "python3",
      "display_name": "Python 3"
    },
    "language_info": {
      "name": "python"
    }
  },
  "cells": [
    {
      "cell_type": "markdown",
      "metadata": {
        "id": "ZmrpOBsKX5oB"
      },
      "source": [
        "### **Fraud Detection Challenge** <br>\n",
        "By: Rayan Roy\n",
        "\n",
        "The dataset was acquired from [Kaggle](https://www.kaggle.com/mlg-ulb/creditcardfraud?select=creditcard.csv#)\n",
        " which contains transactions made by credit cards in September 2013 by European cardholders.\n",
        "This dataset presents transactions that occurred in two days, where we have 492 frauds out of 284,807 transactions. The dataset is highly unbalanced, the positive class (frauds) account for 0.172% of all transactions. Our goal is to classify if a transaction is fraud, with 1 being Yes and 0 being No.\n",
        "\n",
        "\n"
      ]
    },
    {
      "cell_type": "code",
      "metadata": {
        "colab": {
          "base_uri": "https://localhost:8080/"
        },
        "id": "Qgt6fKi-E2X7",
        "outputId": "ccea8157-5186-4624-9470-a2675e47e766"
      },
      "source": [
        "!ls \"/content/drive/My Drive\""
      ],
      "execution_count": null,
      "outputs": [
        {
          "output_type": "stream",
          "name": "stdout",
          "text": [
            "Assignment_description.docx  credit_card_fraud_data.zip\n"
          ]
        }
      ]
    },
    {
      "cell_type": "code",
      "metadata": {
        "colab": {
          "base_uri": "https://localhost:8080/"
        },
        "id": "bRkmPtndGYAw",
        "outputId": "50a61d96-e2b5-4753-eabc-be10699df025"
      },
      "source": [
        "!unzip \"/content/drive/My Drive/credit_card_fraud_data.zip\""
      ],
      "execution_count": null,
      "outputs": [
        {
          "output_type": "stream",
          "name": "stdout",
          "text": [
            "Archive:  /content/drive/My Drive/DS_intern_interview/credit_card_fraud_data.zip\n",
            "  inflating: creditcard.csv          \n"
          ]
        }
      ]
    },
    {
      "cell_type": "code",
      "metadata": {
        "colab": {
          "base_uri": "https://localhost:8080/"
        },
        "id": "7a063TB_IzT8",
        "outputId": "3043c981-5c0e-4b41-8def-cf8bbc100b54"
      },
      "source": [
        "!pip install sklearn\n",
        "!pip install catboost\n",
        "!pip install xgboost\n",
        "!pip install lightgbm"
      ],
      "execution_count": null,
      "outputs": [
        {
          "output_type": "stream",
          "name": "stdout",
          "text": [
            "Requirement already satisfied: sklearn in /usr/local/lib/python3.7/dist-packages (0.0)\n",
            "Requirement already satisfied: scikit-learn in /usr/local/lib/python3.7/dist-packages (from sklearn) (1.0.1)\n",
            "Requirement already satisfied: joblib>=0.11 in /usr/local/lib/python3.7/dist-packages (from scikit-learn->sklearn) (1.1.0)\n",
            "Requirement already satisfied: threadpoolctl>=2.0.0 in /usr/local/lib/python3.7/dist-packages (from scikit-learn->sklearn) (3.0.0)\n",
            "Requirement already satisfied: scipy>=1.1.0 in /usr/local/lib/python3.7/dist-packages (from scikit-learn->sklearn) (1.4.1)\n",
            "Requirement already satisfied: numpy>=1.14.6 in /usr/local/lib/python3.7/dist-packages (from scikit-learn->sklearn) (1.19.5)\n",
            "Requirement already satisfied: catboost in /usr/local/lib/python3.7/dist-packages (1.0.3)\n",
            "Requirement already satisfied: graphviz in /usr/local/lib/python3.7/dist-packages (from catboost) (0.10.1)\n",
            "Requirement already satisfied: pandas>=0.24.0 in /usr/local/lib/python3.7/dist-packages (from catboost) (1.1.5)\n",
            "Requirement already satisfied: scipy in /usr/local/lib/python3.7/dist-packages (from catboost) (1.4.1)\n",
            "Requirement already satisfied: six in /usr/local/lib/python3.7/dist-packages (from catboost) (1.15.0)\n",
            "Requirement already satisfied: numpy>=1.16.0 in /usr/local/lib/python3.7/dist-packages (from catboost) (1.19.5)\n",
            "Requirement already satisfied: plotly in /usr/local/lib/python3.7/dist-packages (from catboost) (4.4.1)\n",
            "Requirement already satisfied: matplotlib in /usr/local/lib/python3.7/dist-packages (from catboost) (3.2.2)\n",
            "Requirement already satisfied: pytz>=2017.2 in /usr/local/lib/python3.7/dist-packages (from pandas>=0.24.0->catboost) (2018.9)\n",
            "Requirement already satisfied: python-dateutil>=2.7.3 in /usr/local/lib/python3.7/dist-packages (from pandas>=0.24.0->catboost) (2.8.2)\n",
            "Requirement already satisfied: cycler>=0.10 in /usr/local/lib/python3.7/dist-packages (from matplotlib->catboost) (0.11.0)\n",
            "Requirement already satisfied: pyparsing!=2.0.4,!=2.1.2,!=2.1.6,>=2.0.1 in /usr/local/lib/python3.7/dist-packages (from matplotlib->catboost) (2.4.7)\n",
            "Requirement already satisfied: kiwisolver>=1.0.1 in /usr/local/lib/python3.7/dist-packages (from matplotlib->catboost) (1.3.2)\n",
            "Requirement already satisfied: retrying>=1.3.3 in /usr/local/lib/python3.7/dist-packages (from plotly->catboost) (1.3.3)\n",
            "Requirement already satisfied: xgboost in /usr/local/lib/python3.7/dist-packages (0.90)\n",
            "Requirement already satisfied: numpy in /usr/local/lib/python3.7/dist-packages (from xgboost) (1.19.5)\n",
            "Requirement already satisfied: scipy in /usr/local/lib/python3.7/dist-packages (from xgboost) (1.4.1)\n",
            "Requirement already satisfied: lightgbm in /usr/local/lib/python3.7/dist-packages (2.2.3)\n",
            "Requirement already satisfied: numpy in /usr/local/lib/python3.7/dist-packages (from lightgbm) (1.19.5)\n",
            "Requirement already satisfied: scipy in /usr/local/lib/python3.7/dist-packages (from lightgbm) (1.4.1)\n",
            "Requirement already satisfied: scikit-learn in /usr/local/lib/python3.7/dist-packages (from lightgbm) (1.0.1)\n",
            "Requirement already satisfied: threadpoolctl>=2.0.0 in /usr/local/lib/python3.7/dist-packages (from scikit-learn->lightgbm) (3.0.0)\n",
            "Requirement already satisfied: joblib>=0.11 in /usr/local/lib/python3.7/dist-packages (from scikit-learn->lightgbm) (1.1.0)\n"
          ]
        }
      ]
    },
    {
      "cell_type": "code",
      "metadata": {
        "id": "UvtjFTweGqCy"
      },
      "source": [
        "import pandas as pd\n",
        "import numpy as np\n",
        "import matplotlib.pyplot as plt\n",
        "import seaborn as sns\n",
        "from sklearn.metrics import confusion_matrix, roc_auc_score\n",
        "from sklearn.model_selection import train_test_split, KFold\n",
        "from sklearn.ensemble import RandomForestClassifier, GradientBoostingClassifier\n",
        "from catboost import CatBoostClassifier\n",
        "from xgboost import XGBClassifier\n",
        "from lightgbm import LGBMClassifier"
      ],
      "execution_count": null,
      "outputs": []
    },
    {
      "cell_type": "code",
      "metadata": {
        "colab": {
          "base_uri": "https://localhost:8080/",
          "height": 224
        },
        "id": "cqIgpSnUGvMN",
        "outputId": "910c1ef8-f532-45d7-8f1d-b8469327e84d"
      },
      "source": [
        "fraud_data = pd.read_csv(\"creditcard.csv\")\n",
        "fraud_data.head() # Loading data"
      ],
      "execution_count": null,
      "outputs": [
        {
          "output_type": "execute_result",
          "data": {
            "text/html": [
              "<div>\n",
              "<style scoped>\n",
              "    .dataframe tbody tr th:only-of-type {\n",
              "        vertical-align: middle;\n",
              "    }\n",
              "\n",
              "    .dataframe tbody tr th {\n",
              "        vertical-align: top;\n",
              "    }\n",
              "\n",
              "    .dataframe thead th {\n",
              "        text-align: right;\n",
              "    }\n",
              "</style>\n",
              "<table border=\"1\" class=\"dataframe\">\n",
              "  <thead>\n",
              "    <tr style=\"text-align: right;\">\n",
              "      <th></th>\n",
              "      <th>Time</th>\n",
              "      <th>V1</th>\n",
              "      <th>V2</th>\n",
              "      <th>V3</th>\n",
              "      <th>V4</th>\n",
              "      <th>V5</th>\n",
              "      <th>V6</th>\n",
              "      <th>V7</th>\n",
              "      <th>V8</th>\n",
              "      <th>V9</th>\n",
              "      <th>V10</th>\n",
              "      <th>V11</th>\n",
              "      <th>V12</th>\n",
              "      <th>V13</th>\n",
              "      <th>V14</th>\n",
              "      <th>V15</th>\n",
              "      <th>V16</th>\n",
              "      <th>V17</th>\n",
              "      <th>V18</th>\n",
              "      <th>V19</th>\n",
              "      <th>V20</th>\n",
              "      <th>V21</th>\n",
              "      <th>V22</th>\n",
              "      <th>V23</th>\n",
              "      <th>V24</th>\n",
              "      <th>V25</th>\n",
              "      <th>V26</th>\n",
              "      <th>V27</th>\n",
              "      <th>V28</th>\n",
              "      <th>Amount</th>\n",
              "      <th>Class</th>\n",
              "    </tr>\n",
              "  </thead>\n",
              "  <tbody>\n",
              "    <tr>\n",
              "      <th>0</th>\n",
              "      <td>0.0</td>\n",
              "      <td>-1.359807</td>\n",
              "      <td>-0.072781</td>\n",
              "      <td>2.536347</td>\n",
              "      <td>1.378155</td>\n",
              "      <td>-0.338321</td>\n",
              "      <td>0.462388</td>\n",
              "      <td>0.239599</td>\n",
              "      <td>0.098698</td>\n",
              "      <td>0.363787</td>\n",
              "      <td>0.090794</td>\n",
              "      <td>-0.551600</td>\n",
              "      <td>-0.617801</td>\n",
              "      <td>-0.991390</td>\n",
              "      <td>-0.311169</td>\n",
              "      <td>1.468177</td>\n",
              "      <td>-0.470401</td>\n",
              "      <td>0.207971</td>\n",
              "      <td>0.025791</td>\n",
              "      <td>0.403993</td>\n",
              "      <td>0.251412</td>\n",
              "      <td>-0.018307</td>\n",
              "      <td>0.277838</td>\n",
              "      <td>-0.110474</td>\n",
              "      <td>0.066928</td>\n",
              "      <td>0.128539</td>\n",
              "      <td>-0.189115</td>\n",
              "      <td>0.133558</td>\n",
              "      <td>-0.021053</td>\n",
              "      <td>149.62</td>\n",
              "      <td>0</td>\n",
              "    </tr>\n",
              "    <tr>\n",
              "      <th>1</th>\n",
              "      <td>0.0</td>\n",
              "      <td>1.191857</td>\n",
              "      <td>0.266151</td>\n",
              "      <td>0.166480</td>\n",
              "      <td>0.448154</td>\n",
              "      <td>0.060018</td>\n",
              "      <td>-0.082361</td>\n",
              "      <td>-0.078803</td>\n",
              "      <td>0.085102</td>\n",
              "      <td>-0.255425</td>\n",
              "      <td>-0.166974</td>\n",
              "      <td>1.612727</td>\n",
              "      <td>1.065235</td>\n",
              "      <td>0.489095</td>\n",
              "      <td>-0.143772</td>\n",
              "      <td>0.635558</td>\n",
              "      <td>0.463917</td>\n",
              "      <td>-0.114805</td>\n",
              "      <td>-0.183361</td>\n",
              "      <td>-0.145783</td>\n",
              "      <td>-0.069083</td>\n",
              "      <td>-0.225775</td>\n",
              "      <td>-0.638672</td>\n",
              "      <td>0.101288</td>\n",
              "      <td>-0.339846</td>\n",
              "      <td>0.167170</td>\n",
              "      <td>0.125895</td>\n",
              "      <td>-0.008983</td>\n",
              "      <td>0.014724</td>\n",
              "      <td>2.69</td>\n",
              "      <td>0</td>\n",
              "    </tr>\n",
              "    <tr>\n",
              "      <th>2</th>\n",
              "      <td>1.0</td>\n",
              "      <td>-1.358354</td>\n",
              "      <td>-1.340163</td>\n",
              "      <td>1.773209</td>\n",
              "      <td>0.379780</td>\n",
              "      <td>-0.503198</td>\n",
              "      <td>1.800499</td>\n",
              "      <td>0.791461</td>\n",
              "      <td>0.247676</td>\n",
              "      <td>-1.514654</td>\n",
              "      <td>0.207643</td>\n",
              "      <td>0.624501</td>\n",
              "      <td>0.066084</td>\n",
              "      <td>0.717293</td>\n",
              "      <td>-0.165946</td>\n",
              "      <td>2.345865</td>\n",
              "      <td>-2.890083</td>\n",
              "      <td>1.109969</td>\n",
              "      <td>-0.121359</td>\n",
              "      <td>-2.261857</td>\n",
              "      <td>0.524980</td>\n",
              "      <td>0.247998</td>\n",
              "      <td>0.771679</td>\n",
              "      <td>0.909412</td>\n",
              "      <td>-0.689281</td>\n",
              "      <td>-0.327642</td>\n",
              "      <td>-0.139097</td>\n",
              "      <td>-0.055353</td>\n",
              "      <td>-0.059752</td>\n",
              "      <td>378.66</td>\n",
              "      <td>0</td>\n",
              "    </tr>\n",
              "    <tr>\n",
              "      <th>3</th>\n",
              "      <td>1.0</td>\n",
              "      <td>-0.966272</td>\n",
              "      <td>-0.185226</td>\n",
              "      <td>1.792993</td>\n",
              "      <td>-0.863291</td>\n",
              "      <td>-0.010309</td>\n",
              "      <td>1.247203</td>\n",
              "      <td>0.237609</td>\n",
              "      <td>0.377436</td>\n",
              "      <td>-1.387024</td>\n",
              "      <td>-0.054952</td>\n",
              "      <td>-0.226487</td>\n",
              "      <td>0.178228</td>\n",
              "      <td>0.507757</td>\n",
              "      <td>-0.287924</td>\n",
              "      <td>-0.631418</td>\n",
              "      <td>-1.059647</td>\n",
              "      <td>-0.684093</td>\n",
              "      <td>1.965775</td>\n",
              "      <td>-1.232622</td>\n",
              "      <td>-0.208038</td>\n",
              "      <td>-0.108300</td>\n",
              "      <td>0.005274</td>\n",
              "      <td>-0.190321</td>\n",
              "      <td>-1.175575</td>\n",
              "      <td>0.647376</td>\n",
              "      <td>-0.221929</td>\n",
              "      <td>0.062723</td>\n",
              "      <td>0.061458</td>\n",
              "      <td>123.50</td>\n",
              "      <td>0</td>\n",
              "    </tr>\n",
              "    <tr>\n",
              "      <th>4</th>\n",
              "      <td>2.0</td>\n",
              "      <td>-1.158233</td>\n",
              "      <td>0.877737</td>\n",
              "      <td>1.548718</td>\n",
              "      <td>0.403034</td>\n",
              "      <td>-0.407193</td>\n",
              "      <td>0.095921</td>\n",
              "      <td>0.592941</td>\n",
              "      <td>-0.270533</td>\n",
              "      <td>0.817739</td>\n",
              "      <td>0.753074</td>\n",
              "      <td>-0.822843</td>\n",
              "      <td>0.538196</td>\n",
              "      <td>1.345852</td>\n",
              "      <td>-1.119670</td>\n",
              "      <td>0.175121</td>\n",
              "      <td>-0.451449</td>\n",
              "      <td>-0.237033</td>\n",
              "      <td>-0.038195</td>\n",
              "      <td>0.803487</td>\n",
              "      <td>0.408542</td>\n",
              "      <td>-0.009431</td>\n",
              "      <td>0.798278</td>\n",
              "      <td>-0.137458</td>\n",
              "      <td>0.141267</td>\n",
              "      <td>-0.206010</td>\n",
              "      <td>0.502292</td>\n",
              "      <td>0.219422</td>\n",
              "      <td>0.215153</td>\n",
              "      <td>69.99</td>\n",
              "      <td>0</td>\n",
              "    </tr>\n",
              "  </tbody>\n",
              "</table>\n",
              "</div>"
            ],
            "text/plain": [
              "   Time        V1        V2        V3  ...       V27       V28  Amount  Class\n",
              "0   0.0 -1.359807 -0.072781  2.536347  ...  0.133558 -0.021053  149.62      0\n",
              "1   0.0  1.191857  0.266151  0.166480  ... -0.008983  0.014724    2.69      0\n",
              "2   1.0 -1.358354 -1.340163  1.773209  ... -0.055353 -0.059752  378.66      0\n",
              "3   1.0 -0.966272 -0.185226  1.792993  ...  0.062723  0.061458  123.50      0\n",
              "4   2.0 -1.158233  0.877737  1.548718  ...  0.219422  0.215153   69.99      0\n",
              "\n",
              "[5 rows x 31 columns]"
            ]
          },
          "metadata": {},
          "execution_count": 6
        }
      ]
    },
    {
      "cell_type": "markdown",
      "metadata": {
        "id": "ybwAtAzEHtxe"
      },
      "source": [
        "Exploratory Data Analysis"
      ]
    },
    {
      "cell_type": "code",
      "metadata": {
        "colab": {
          "base_uri": "https://localhost:8080/"
        },
        "id": "fUvpnuI3HxWG",
        "outputId": "4113098e-bdf9-42f7-a1fa-f914934df59c"
      },
      "source": [
        "# We can see all the columns are numeric values\n",
        "fraud_data.info()"
      ],
      "execution_count": null,
      "outputs": [
        {
          "output_type": "stream",
          "name": "stdout",
          "text": [
            "<class 'pandas.core.frame.DataFrame'>\n",
            "RangeIndex: 284807 entries, 0 to 284806\n",
            "Data columns (total 31 columns):\n",
            " #   Column  Non-Null Count   Dtype  \n",
            "---  ------  --------------   -----  \n",
            " 0   Time    284807 non-null  float64\n",
            " 1   V1      284807 non-null  float64\n",
            " 2   V2      284807 non-null  float64\n",
            " 3   V3      284807 non-null  float64\n",
            " 4   V4      284807 non-null  float64\n",
            " 5   V5      284807 non-null  float64\n",
            " 6   V6      284807 non-null  float64\n",
            " 7   V7      284807 non-null  float64\n",
            " 8   V8      284807 non-null  float64\n",
            " 9   V9      284807 non-null  float64\n",
            " 10  V10     284807 non-null  float64\n",
            " 11  V11     284807 non-null  float64\n",
            " 12  V12     284807 non-null  float64\n",
            " 13  V13     284807 non-null  float64\n",
            " 14  V14     284807 non-null  float64\n",
            " 15  V15     284807 non-null  float64\n",
            " 16  V16     284807 non-null  float64\n",
            " 17  V17     284807 non-null  float64\n",
            " 18  V18     284807 non-null  float64\n",
            " 19  V19     284807 non-null  float64\n",
            " 20  V20     284807 non-null  float64\n",
            " 21  V21     284807 non-null  float64\n",
            " 22  V22     284807 non-null  float64\n",
            " 23  V23     284807 non-null  float64\n",
            " 24  V24     284807 non-null  float64\n",
            " 25  V25     284807 non-null  float64\n",
            " 26  V26     284807 non-null  float64\n",
            " 27  V27     284807 non-null  float64\n",
            " 28  V28     284807 non-null  float64\n",
            " 29  Amount  284807 non-null  float64\n",
            " 30  Class   284807 non-null  int64  \n",
            "dtypes: float64(30), int64(1)\n",
            "memory usage: 67.4 MB\n"
          ]
        }
      ]
    },
    {
      "cell_type": "code",
      "metadata": {
        "colab": {
          "base_uri": "https://localhost:8080/"
        },
        "id": "JWQu67lbJjOM",
        "outputId": "54177bf6-d28c-4d9e-e9f3-3c35f9b8500d"
      },
      "source": [
        "fraud_data.isnull().sum() # There are no null values present"
      ],
      "execution_count": null,
      "outputs": [
        {
          "output_type": "execute_result",
          "data": {
            "text/plain": [
              "Time      0\n",
              "V1        0\n",
              "V2        0\n",
              "V3        0\n",
              "V4        0\n",
              "V5        0\n",
              "V6        0\n",
              "V7        0\n",
              "V8        0\n",
              "V9        0\n",
              "V10       0\n",
              "V11       0\n",
              "V12       0\n",
              "V13       0\n",
              "V14       0\n",
              "V15       0\n",
              "V16       0\n",
              "V17       0\n",
              "V18       0\n",
              "V19       0\n",
              "V20       0\n",
              "V21       0\n",
              "V22       0\n",
              "V23       0\n",
              "V24       0\n",
              "V25       0\n",
              "V26       0\n",
              "V27       0\n",
              "V28       0\n",
              "Amount    0\n",
              "Class     0\n",
              "dtype: int64"
            ]
          },
          "metadata": {},
          "execution_count": 8
        }
      ]
    },
    {
      "cell_type": "markdown",
      "metadata": {
        "id": "6zGTeJkLRl49"
      },
      "source": [
        "Lets explore how many values are fraud and how many are normal data. We can see there are 492 rows that are fraud while 284315 count that are normal. This is highly unbalanced, the positive class (frauds) account for 0.172% of all transactions."
      ]
    },
    {
      "cell_type": "code",
      "metadata": {
        "colab": {
          "base_uri": "https://localhost:8080/"
        },
        "id": "v3-4LN7cKHKY",
        "outputId": "0b1187a2-f682-4311-fac3-d24161179281"
      },
      "source": [
        "fraud_data['Class'].value_counts()"
      ],
      "execution_count": null,
      "outputs": [
        {
          "output_type": "execute_result",
          "data": {
            "text/plain": [
              "0    284315\n",
              "1       492\n",
              "Name: Class, dtype: int64"
            ]
          },
          "metadata": {},
          "execution_count": 9
        }
      ]
    },
    {
      "cell_type": "markdown",
      "metadata": {
        "id": "w4oaO3y4LUBl"
      },
      "source": [
        "Hypothesis or things I want to explore:\n",
        " \n",
        " Since there are only two variables time and amount that we know about, we will explore the two questions:\n",
        "*   Are there certain amount/threshold that are being declared as fraud?\n",
        "* Are there any trends in fraud/normal payment over time or any seasonality?\n",
        "*   Are there any patterns between amount and time?\n",
        "\n",
        "We don't know anything about the variables beginning with V1, so we won't be using them to explore their distribution.\n",
        "\n",
        "\n",
        "\n"
      ]
    },
    {
      "cell_type": "code",
      "metadata": {
        "colab": {
          "base_uri": "https://localhost:8080/",
          "height": 296
        },
        "id": "QcCAUTTMKHez",
        "outputId": "ec672cae-1de7-4cff-9cdb-2e8960ee03ba"
      },
      "source": [
        "# Exploring the threshold, we will draw a histogram to check\n",
        "# Looking at the fraud data\n",
        "plt.hist(fraud_data.Amount[fraud_data.Class == 1], bins=25)\n",
        "plt.xlabel(\"Amount\")\n",
        "plt.ylabel(\"No of transaction\")"
      ],
      "execution_count": null,
      "outputs": [
        {
          "output_type": "execute_result",
          "data": {
            "text/plain": [
              "Text(0, 0.5, 'No of transaction')"
            ]
          },
          "metadata": {},
          "execution_count": 10
        },
        {
          "output_type": "display_data",
          "data": {
            "image/png": "[encoded data removed]",
            "text/plain": [
              "<Figure size 432x288 with 1 Axes>"
            ]
          },
          "metadata": {
            "needs_background": "light"
          }
        }
      ]
    },
    {
      "cell_type": "code",
      "metadata": {
        "colab": {
          "base_uri": "https://localhost:8080/",
          "height": 279
        },
        "id": "vkk_GyzmKHwi",
        "outputId": "c46eb155-7eb7-4037-aad4-73b76000429f"
      },
      "source": [
        "# Looking at the normal data\n",
        "plt.hist(fraud_data.Amount[fraud_data.Class == 0], bins=25)\n",
        "plt.xlabel(\"Amount\")\n",
        "plt.ylabel(\"No of transaction\")\n",
        "plt.yscale('log')\n"
      ],
      "execution_count": null,
      "outputs": [
        {
          "output_type": "display_data",
          "data": {
            "image/png": "[encoded data removed]",
            "text/plain": [
              "<Figure size 432x288 with 1 Axes>"
            ]
          },
          "metadata": {
            "needs_background": "light"
          }
        }
      ]
    },
    {
      "cell_type": "markdown",
      "metadata": {
        "id": "Zh4qXRqcOdvW"
      },
      "source": [
        "We can see that most of the normal payments are concentrated between 0 to 10000 while most of the fraud payment are concentrated between 0 to 300\n"
      ]
    },
    {
      "cell_type": "code",
      "metadata": {
        "colab": {
          "base_uri": "https://localhost:8080/",
          "height": 296
        },
        "id": "v0bFW6KmOxnq",
        "outputId": "d5cd9f19-2559-44e0-82b6-bd5fdaddff5c"
      },
      "source": [
        "plt.hist(fraud_data.Time[fraud_data.Class == 1], bins=25)\n",
        "plt.xlabel(\"Time in seconds\")"
      ],
      "execution_count": null,
      "outputs": [
        {
          "output_type": "execute_result",
          "data": {
            "text/plain": [
              "Text(0.5, 0, 'Time in seconds')"
            ]
          },
          "metadata": {},
          "execution_count": 12
        },
        {
          "output_type": "display_data",
          "data": {
            "image/png": "[encoded data removed]",
            "text/plain": [
              "<Figure size 432x288 with 1 Axes>"
            ]
          },
          "metadata": {
            "needs_background": "light"
          }
        }
      ]
    },
    {
      "cell_type": "code",
      "metadata": {
        "colab": {
          "base_uri": "https://localhost:8080/",
          "height": 296
        },
        "id": "3VhJFnlZO72O",
        "outputId": "66531b4d-b529-4c26-ef35-531e7c0984cc"
      },
      "source": [
        "plt.hist(fraud_data.Time[fraud_data.Class == 0], bins=25)\n",
        "plt.xlabel(\"Time in seconds\")"
      ],
      "execution_count": null,
      "outputs": [
        {
          "output_type": "execute_result",
          "data": {
            "text/plain": [
              "Text(0.5, 0, 'Time in seconds')"
            ]
          },
          "metadata": {},
          "execution_count": 13
        },
        {
          "output_type": "display_data",
          "data": {
            "image/png": "[encoded data removed]",
            "text/plain": [
              "<Figure size 432x288 with 1 Axes>"
            ]
          },
          "metadata": {
            "needs_background": "light"
          }
        }
      ]
    },
    {
      "cell_type": "markdown",
      "metadata": {
        "id": "hls0KdI-QEAS"
      },
      "source": [
        "We can see from the histogram that fraud payments are cyclical in nature meaning that payments go up and down in certain time. From the normal payment, we see a bimodal distribution. An interesting observation is that there are max value is 175000 seconds for normal payment which is approximately 2 days. This indicates that payment are being monitored over 2 day period."
      ]
    },
    {
      "cell_type": "code",
      "metadata": {
        "colab": {
          "base_uri": "https://localhost:8080/",
          "height": 295
        },
        "id": "Ik2bDTUbTru5",
        "outputId": "f9abaa76-8b71-4435-ce54-09409a2600b2"
      },
      "source": [
        "# Lets explore them in hour basis. We will do a line plot at same time\n",
        "fraud_data['Hour'] = fraud_data['Time'].apply(lambda x: np.floor(x / 3600))\n",
        "f, (ax1, ax2) = plt.subplots(2, 1, sharex=True, figsize=(12,4))\n",
        "\n",
        "ax1.hist(fraud_data.Hour[fraud_data.Class == 1], bins = 25)\n",
        "ax1.set_title('Fraud Payment')\n",
        "ax2.hist(fraud_data.Hour[fraud_data.Class == 0], bins = 25)\n",
        "ax2.set_title('Normal Payment')\n",
        "\n",
        "plt.xlabel('Time (hours)')\n",
        "plt.ylabel('Number of Transactions')\n",
        "plt.show()\n"
      ],
      "execution_count": null,
      "outputs": [
        {
          "output_type": "display_data",
          "data": {
            "image/png": "[encoded data removed]",
            "text/plain": [
              "<Figure size 864x288 with 2 Axes>"
            ]
          },
          "metadata": {
            "needs_background": "light"
          }
        }
      ]
    },
    {
      "cell_type": "markdown",
      "metadata": {
        "id": "IAzZvQ7SSIkz"
      },
      "source": [
        "We see that majority of the transactions happen during the day.\n",
        "\n",
        "#### **Lets see any visible pattern between time and amount.**"
      ]
    },
    {
      "cell_type": "code",
      "metadata": {
        "colab": {
          "base_uri": "https://localhost:8080/",
          "height": 312
        },
        "id": "dVYm_iN-SQ2T",
        "outputId": "e077fb16-f9f1-45fa-eecc-9a8854ab55a9"
      },
      "source": [
        "plt.scatter(fraud_data.Time[fraud_data.Class == 1], fraud_data.Amount[fraud_data.Class == 1])\n",
        "plt.title(\"Fraud Payment\")\n",
        "plt.xlabel(\"Time\")\n",
        "plt.ylabel(\"Amount\")"
      ],
      "execution_count": null,
      "outputs": [
        {
          "output_type": "execute_result",
          "data": {
            "text/plain": [
              "Text(0, 0.5, 'Amount')"
            ]
          },
          "metadata": {},
          "execution_count": 15
        },
        {
          "output_type": "display_data",
          "data": {
            "image/png": "[encoded data removed]",
            "text/plain": [
              "<Figure size 432x288 with 1 Axes>"
            ]
          },
          "metadata": {
            "needs_background": "light"
          }
        }
      ]
    },
    {
      "cell_type": "code",
      "metadata": {
        "colab": {
          "base_uri": "https://localhost:8080/",
          "height": 312
        },
        "id": "RsLkNk4EWorF",
        "outputId": "3e1b7767-5ff7-4aea-ce28-76de247f41e9"
      },
      "source": [
        "plt.scatter(fraud_data.Time[fraud_data.Class == 0], fraud_data.Amount[fraud_data.Class == 0])\n",
        "plt.title(\"Normal Payment\")\n",
        "plt.xlabel(\"Time\")\n",
        "plt.ylabel(\"Amount\")"
      ],
      "execution_count": null,
      "outputs": [
        {
          "output_type": "execute_result",
          "data": {
            "text/plain": [
              "Text(0, 0.5, 'Amount')"
            ]
          },
          "metadata": {},
          "execution_count": 16
        },
        {
          "output_type": "display_data",
          "data": {
            "image/png": "[encoded data removed]",
            "text/plain": [
              "<Figure size 432x288 with 1 Axes>"
            ]
          },
          "metadata": {
            "needs_background": "light"
          }
        }
      ]
    },
    {
      "cell_type": "markdown",
      "metadata": {
        "id": "xR9t2kQaWLny"
      },
      "source": [
        "We don't see anything particular interesting."
      ]
    },
    {
      "cell_type": "markdown",
      "metadata": {
        "id": "CN8UyU7icUgm"
      },
      "source": [
        "## Model Performance:\n",
        "\n",
        "We will split the data between train and test dataset (80-20 split). And we will split the train set into train and validation set."
      ]
    },
    {
      "cell_type": "code",
      "metadata": {
        "id": "LrWX7HrbcXvC"
      },
      "source": [
        "ylab = fraud_data['Class']\n",
        "predictors = fraud_data.iloc[:,0:30]\n",
        "X_train, X_test, Y_train, Y_test = train_test_split(predictors,ylab, stratify=ylab, \n",
        "                                                    test_size=0.2) # random shuffling\n",
        "X_train, valid_train, Y_train, valid_test = train_test_split(X_train, Y_train, test_size=0.2, random_state= 202)"
      ],
      "execution_count": null,
      "outputs": []
    },
    {
      "cell_type": "markdown",
      "metadata": {
        "id": "mEOZIx49Et41"
      },
      "source": [
        "We will use various classifiers including random forest, XGBoost, Gradient Boost (GBM) and CatBoost and LightGBM. I didn't have much computing power to tune my hyperparameters. "
      ]
    },
    {
      "cell_type": "code",
      "metadata": {
        "id": "soFEcUvVEgDk"
      },
      "source": [
        "# Random Forest Classifier:\n",
        "rf = RandomForestClassifier(n_jobs = 10, # Using low power b/c don't have that much compute\n",
        "                            verbose = False,\n",
        "                             random_state = 443, # for reproducibility\n",
        "                             criterion='gini',\n",
        "                             n_estimators=50)"
      ],
      "execution_count": null,
      "outputs": []
    },
    {
      "cell_type": "code",
      "metadata": {
        "colab": {
          "base_uri": "https://localhost:8080/"
        },
        "id": "hH4czyBiEgL-",
        "outputId": "d0daf13e-792b-4ffb-93c8-8e219a3003be"
      },
      "source": [
        "rf.fit(X_train[predictors.columns], Y_train)"
      ],
      "execution_count": null,
      "outputs": [
        {
          "output_type": "execute_result",
          "data": {
            "text/plain": [
              "RandomForestClassifier(n_estimators=50, n_jobs=10, random_state=443,\n",
              "                       verbose=False)"
            ]
          },
          "metadata": {},
          "execution_count": 66
        }
      ]
    },
    {
      "cell_type": "code",
      "metadata": {
        "colab": {
          "base_uri": "https://localhost:8080/"
        },
        "id": "5YQhlJKGEgjh",
        "outputId": "823ef6b0-3076-4145-ccf0-205da5075661"
      },
      "source": [
        "# The most important metric of evaluation is ROC curve which plots the \n",
        "# true positive rate (TPR) versus the false positive rate (FPR).\n",
        "# The higher the ROC score the better\n",
        "pred = rf.predict(valid_train[predictors.columns])\n",
        "roc_auc_score(valid_test.values, pred)\n"
      ],
      "execution_count": null,
      "outputs": [
        {
          "output_type": "execute_result",
          "data": {
            "text/plain": [
              "0.8799450476985976"
            ]
          },
          "metadata": {},
          "execution_count": 67
        }
      ]
    },
    {
      "cell_type": "markdown",
      "metadata": {
        "id": "T4opRE4uSapG"
      },
      "source": [
        "XGB Classifier"
      ]
    },
    {
      "cell_type": "code",
      "metadata": {
        "colab": {
          "base_uri": "https://localhost:8080/"
        },
        "id": "PEOPOjNmK1dj",
        "outputId": "31605810-f991-4b46-f4b9-6575b5699220"
      },
      "source": [
        "xgb1 = XGBClassifier(objective = 'binary:logistic', eval_metric = \"logloss\")\n",
        "# Since classification eval is logloss\n",
        "\n",
        "xgb1.fit(X_train[predictors.columns], Y_train)\n",
        "pred = xgb1.predict(valid_train[predictors.columns])\n",
        "roc_auc_score(valid_test.values, pred)"
      ],
      "execution_count": null,
      "outputs": [
        {
          "output_type": "execute_result",
          "data": {
            "text/plain": [
              "0.8799120763177561"
            ]
          },
          "metadata": {},
          "execution_count": 77
        }
      ]
    },
    {
      "cell_type": "markdown",
      "metadata": {
        "id": "fog6s9VQSf8y"
      },
      "source": [
        "Gradient Boosting Classifier:"
      ]
    },
    {
      "cell_type": "code",
      "metadata": {
        "colab": {
          "base_uri": "https://localhost:8080/"
        },
        "id": "o8k5KvTjQTLO",
        "outputId": "b86b9de8-a313-4cfe-e3be-b2db2e86aeb4"
      },
      "source": [
        "gbm = GradientBoostingClassifier()\n",
        "gbm.fit(X_train[predictors.columns], Y_train)\n",
        "pred = gbm.predict(valid_train[predictors.columns])\n",
        "roc_auc_score(valid_test.values, pred)\n"
      ],
      "execution_count": null,
      "outputs": [
        {
          "output_type": "execute_result",
          "data": {
            "text/plain": [
              "0.806556762063862"
            ]
          },
          "metadata": {},
          "execution_count": 78
        }
      ]
    },
    {
      "cell_type": "markdown",
      "metadata": {
        "id": "FqLWLf7YSj7t"
      },
      "source": [
        "Cat Boost:"
      ]
    },
    {
      "cell_type": "code",
      "metadata": {
        "colab": {
          "base_uri": "https://localhost:8080/"
        },
        "id": "fYrZ6L4gQe-D",
        "outputId": "ac35c744-6d4a-46e0-80a1-18ce1066a5e6"
      },
      "source": [
        "clf = CatBoostClassifier()\n",
        "clf.fit(X_train[predictors.columns], Y_train)\n",
        "pred = clf.predict(valid_train[predictors.columns])\n",
        "roc_auc_score(valid_test.values, pred)"
      ],
      "execution_count": null,
      "outputs": [
        {
          "output_type": "stream",
          "name": "stdout",
          "text": [
            "Learning rate set to 0.095119\n",
            "0:\tlearn: 0.3753179\ttotal: 103ms\tremaining: 1m 42s\n",
            "1:\tlearn: 0.2093795\ttotal: 159ms\tremaining: 1m 19s\n",
            "2:\tlearn: 0.1152537\ttotal: 216ms\tremaining: 1m 11s\n",
            "3:\tlearn: 0.0654819\ttotal: 265ms\tremaining: 1m 5s\n",
            "4:\tlearn: 0.0399736\ttotal: 315ms\tremaining: 1m 2s\n",
            "5:\tlearn: 0.0257348\ttotal: 362ms\tremaining: 59.9s\n",
            "6:\tlearn: 0.0174439\ttotal: 406ms\tremaining: 57.6s\n",
            "7:\tlearn: 0.0123680\ttotal: 454ms\tremaining: 56.3s\n",
            "8:\tlearn: 0.0092814\ttotal: 500ms\tremaining: 55.1s\n",
            "9:\tlearn: 0.0070863\ttotal: 554ms\tremaining: 54.8s\n",
            "10:\tlearn: 0.0057767\ttotal: 606ms\tremaining: 54.5s\n",
            "11:\tlearn: 0.0049313\ttotal: 665ms\tremaining: 54.7s\n",
            "12:\tlearn: 0.0042879\ttotal: 711ms\tremaining: 54s\n",
            "13:\tlearn: 0.0038396\ttotal: 766ms\tremaining: 53.9s\n",
            "14:\tlearn: 0.0035045\ttotal: 815ms\tremaining: 53.5s\n",
            "15:\tlearn: 0.0032272\ttotal: 863ms\tremaining: 53.1s\n",
            "16:\tlearn: 0.0030501\ttotal: 916ms\tremaining: 53s\n",
            "17:\tlearn: 0.0028600\ttotal: 967ms\tremaining: 52.7s\n",
            "18:\tlearn: 0.0027494\ttotal: 1.02s\tremaining: 52.5s\n",
            "19:\tlearn: 0.0026605\ttotal: 1.06s\tremaining: 52.2s\n",
            "20:\tlearn: 0.0025880\ttotal: 1.11s\tremaining: 51.7s\n",
            "21:\tlearn: 0.0025255\ttotal: 1.16s\tremaining: 51.6s\n",
            "22:\tlearn: 0.0024696\ttotal: 1.21s\tremaining: 51.4s\n",
            "23:\tlearn: 0.0024227\ttotal: 1.25s\tremaining: 51s\n",
            "24:\tlearn: 0.0023873\ttotal: 1.3s\tremaining: 50.8s\n",
            "25:\tlearn: 0.0023523\ttotal: 1.34s\tremaining: 50.4s\n",
            "26:\tlearn: 0.0022947\ttotal: 1.4s\tremaining: 50.3s\n",
            "27:\tlearn: 0.0022490\ttotal: 1.45s\tremaining: 50.5s\n",
            "28:\tlearn: 0.0022059\ttotal: 1.51s\tremaining: 50.5s\n",
            "29:\tlearn: 0.0021725\ttotal: 1.56s\tremaining: 50.6s\n",
            "30:\tlearn: 0.0021536\ttotal: 1.61s\tremaining: 50.5s\n",
            "31:\tlearn: 0.0021195\ttotal: 1.66s\tremaining: 50.4s\n",
            "32:\tlearn: 0.0021030\ttotal: 1.71s\tremaining: 50.2s\n",
            "33:\tlearn: 0.0020862\ttotal: 1.76s\tremaining: 50.1s\n",
            "34:\tlearn: 0.0020721\ttotal: 1.81s\tremaining: 50s\n",
            "35:\tlearn: 0.0020576\ttotal: 1.86s\tremaining: 49.8s\n",
            "36:\tlearn: 0.0020406\ttotal: 1.91s\tremaining: 49.7s\n",
            "37:\tlearn: 0.0020233\ttotal: 1.95s\tremaining: 49.4s\n",
            "38:\tlearn: 0.0020052\ttotal: 2s\tremaining: 49.4s\n",
            "39:\tlearn: 0.0019957\ttotal: 2.06s\tremaining: 49.5s\n",
            "40:\tlearn: 0.0019846\ttotal: 2.11s\tremaining: 49.4s\n",
            "41:\tlearn: 0.0019568\ttotal: 2.16s\tremaining: 49.2s\n",
            "42:\tlearn: 0.0019386\ttotal: 2.21s\tremaining: 49.1s\n",
            "43:\tlearn: 0.0019269\ttotal: 2.25s\tremaining: 48.9s\n",
            "44:\tlearn: 0.0019099\ttotal: 2.3s\tremaining: 48.8s\n",
            "45:\tlearn: 0.0018926\ttotal: 2.34s\tremaining: 48.6s\n",
            "46:\tlearn: 0.0018837\ttotal: 2.39s\tremaining: 48.4s\n",
            "47:\tlearn: 0.0018700\ttotal: 2.43s\tremaining: 48.3s\n",
            "48:\tlearn: 0.0018574\ttotal: 2.48s\tremaining: 48.2s\n",
            "49:\tlearn: 0.0018487\ttotal: 2.53s\tremaining: 48.1s\n",
            "50:\tlearn: 0.0018431\ttotal: 2.58s\tremaining: 48.1s\n",
            "51:\tlearn: 0.0018342\ttotal: 2.63s\tremaining: 47.9s\n",
            "52:\tlearn: 0.0018290\ttotal: 2.67s\tremaining: 47.8s\n",
            "53:\tlearn: 0.0018243\ttotal: 2.72s\tremaining: 47.6s\n",
            "54:\tlearn: 0.0018178\ttotal: 2.77s\tremaining: 47.6s\n",
            "55:\tlearn: 0.0017962\ttotal: 2.82s\tremaining: 47.5s\n",
            "56:\tlearn: 0.0017863\ttotal: 2.87s\tremaining: 47.5s\n",
            "57:\tlearn: 0.0017717\ttotal: 2.91s\tremaining: 47.3s\n",
            "58:\tlearn: 0.0017572\ttotal: 2.96s\tremaining: 47.2s\n",
            "59:\tlearn: 0.0017398\ttotal: 3.01s\tremaining: 47.1s\n",
            "60:\tlearn: 0.0017262\ttotal: 3.06s\tremaining: 47.2s\n",
            "61:\tlearn: 0.0017115\ttotal: 3.11s\tremaining: 47.1s\n",
            "62:\tlearn: 0.0017016\ttotal: 3.16s\tremaining: 47s\n",
            "63:\tlearn: 0.0016850\ttotal: 3.21s\tremaining: 47s\n",
            "64:\tlearn: 0.0016727\ttotal: 3.26s\tremaining: 46.9s\n",
            "65:\tlearn: 0.0016658\ttotal: 3.3s\tremaining: 46.7s\n",
            "66:\tlearn: 0.0016537\ttotal: 3.35s\tremaining: 46.6s\n",
            "67:\tlearn: 0.0016480\ttotal: 3.39s\tremaining: 46.5s\n",
            "68:\tlearn: 0.0016395\ttotal: 3.44s\tremaining: 46.5s\n",
            "69:\tlearn: 0.0016325\ttotal: 3.49s\tremaining: 46.4s\n",
            "70:\tlearn: 0.0016256\ttotal: 3.54s\tremaining: 46.3s\n",
            "71:\tlearn: 0.0016149\ttotal: 3.6s\tremaining: 46.4s\n",
            "72:\tlearn: 0.0016085\ttotal: 3.64s\tremaining: 46.3s\n",
            "73:\tlearn: 0.0016014\ttotal: 3.7s\tremaining: 46.3s\n",
            "74:\tlearn: 0.0015938\ttotal: 3.75s\tremaining: 46.2s\n",
            "75:\tlearn: 0.0015839\ttotal: 3.8s\tremaining: 46.2s\n",
            "76:\tlearn: 0.0015748\ttotal: 3.84s\tremaining: 46s\n",
            "77:\tlearn: 0.0015714\ttotal: 3.88s\tremaining: 45.9s\n",
            "78:\tlearn: 0.0015553\ttotal: 3.93s\tremaining: 45.8s\n",
            "79:\tlearn: 0.0015466\ttotal: 3.98s\tremaining: 45.8s\n",
            "80:\tlearn: 0.0015365\ttotal: 4.04s\tremaining: 45.9s\n",
            "81:\tlearn: 0.0015276\ttotal: 4.1s\tremaining: 45.9s\n",
            "82:\tlearn: 0.0015120\ttotal: 4.15s\tremaining: 45.8s\n",
            "83:\tlearn: 0.0014993\ttotal: 4.2s\tremaining: 45.8s\n",
            "84:\tlearn: 0.0014943\ttotal: 4.24s\tremaining: 45.7s\n",
            "85:\tlearn: 0.0014844\ttotal: 4.29s\tremaining: 45.6s\n",
            "86:\tlearn: 0.0014796\ttotal: 4.33s\tremaining: 45.5s\n",
            "87:\tlearn: 0.0014734\ttotal: 4.38s\tremaining: 45.4s\n",
            "88:\tlearn: 0.0014658\ttotal: 4.43s\tremaining: 45.4s\n",
            "89:\tlearn: 0.0014601\ttotal: 4.48s\tremaining: 45.3s\n",
            "90:\tlearn: 0.0014500\ttotal: 4.53s\tremaining: 45.2s\n",
            "91:\tlearn: 0.0014447\ttotal: 4.59s\tremaining: 45.3s\n",
            "92:\tlearn: 0.0014385\ttotal: 4.64s\tremaining: 45.2s\n",
            "93:\tlearn: 0.0014285\ttotal: 4.69s\tremaining: 45.2s\n",
            "94:\tlearn: 0.0014143\ttotal: 4.75s\tremaining: 45.2s\n",
            "95:\tlearn: 0.0014077\ttotal: 4.8s\tremaining: 45.2s\n",
            "96:\tlearn: 0.0014063\ttotal: 4.85s\tremaining: 45.1s\n",
            "97:\tlearn: 0.0014040\ttotal: 4.89s\tremaining: 45s\n",
            "98:\tlearn: 0.0013996\ttotal: 4.94s\tremaining: 45s\n",
            "99:\tlearn: 0.0013911\ttotal: 4.98s\tremaining: 44.9s\n",
            "100:\tlearn: 0.0013836\ttotal: 5.04s\tremaining: 44.8s\n",
            "101:\tlearn: 0.0013790\ttotal: 5.08s\tremaining: 44.7s\n",
            "102:\tlearn: 0.0013701\ttotal: 5.13s\tremaining: 44.6s\n",
            "103:\tlearn: 0.0013580\ttotal: 5.18s\tremaining: 44.6s\n",
            "104:\tlearn: 0.0013524\ttotal: 5.22s\tremaining: 44.5s\n",
            "105:\tlearn: 0.0013421\ttotal: 5.27s\tremaining: 44.5s\n",
            "106:\tlearn: 0.0013340\ttotal: 5.33s\tremaining: 44.5s\n",
            "107:\tlearn: 0.0013246\ttotal: 5.37s\tremaining: 44.4s\n",
            "108:\tlearn: 0.0013179\ttotal: 5.42s\tremaining: 44.3s\n",
            "109:\tlearn: 0.0013095\ttotal: 5.47s\tremaining: 44.3s\n",
            "110:\tlearn: 0.0013036\ttotal: 5.52s\tremaining: 44.2s\n",
            "111:\tlearn: 0.0012981\ttotal: 5.57s\tremaining: 44.2s\n",
            "112:\tlearn: 0.0012920\ttotal: 5.62s\tremaining: 44.1s\n",
            "113:\tlearn: 0.0012826\ttotal: 5.67s\tremaining: 44.1s\n",
            "114:\tlearn: 0.0012745\ttotal: 5.72s\tremaining: 44s\n",
            "115:\tlearn: 0.0012636\ttotal: 5.77s\tremaining: 44s\n",
            "116:\tlearn: 0.0012563\ttotal: 5.82s\tremaining: 43.9s\n",
            "117:\tlearn: 0.0012466\ttotal: 5.87s\tremaining: 43.9s\n",
            "118:\tlearn: 0.0012422\ttotal: 5.92s\tremaining: 43.8s\n",
            "119:\tlearn: 0.0012326\ttotal: 5.97s\tremaining: 43.8s\n",
            "120:\tlearn: 0.0012188\ttotal: 6.02s\tremaining: 43.8s\n",
            "121:\tlearn: 0.0012128\ttotal: 6.07s\tremaining: 43.7s\n",
            "122:\tlearn: 0.0012108\ttotal: 6.11s\tremaining: 43.6s\n",
            "123:\tlearn: 0.0012047\ttotal: 6.16s\tremaining: 43.5s\n",
            "124:\tlearn: 0.0012000\ttotal: 6.21s\tremaining: 43.5s\n",
            "125:\tlearn: 0.0011954\ttotal: 6.26s\tremaining: 43.4s\n",
            "126:\tlearn: 0.0011909\ttotal: 6.3s\tremaining: 43.3s\n",
            "127:\tlearn: 0.0011868\ttotal: 6.35s\tremaining: 43.3s\n",
            "128:\tlearn: 0.0011844\ttotal: 6.39s\tremaining: 43.2s\n",
            "129:\tlearn: 0.0011780\ttotal: 6.44s\tremaining: 43.1s\n",
            "130:\tlearn: 0.0011693\ttotal: 6.5s\tremaining: 43.1s\n",
            "131:\tlearn: 0.0011675\ttotal: 6.54s\tremaining: 43s\n",
            "132:\tlearn: 0.0011585\ttotal: 6.6s\tremaining: 43s\n",
            "133:\tlearn: 0.0011537\ttotal: 6.65s\tremaining: 43s\n",
            "134:\tlearn: 0.0011485\ttotal: 6.69s\tremaining: 42.9s\n",
            "135:\tlearn: 0.0011420\ttotal: 6.74s\tremaining: 42.8s\n",
            "136:\tlearn: 0.0011311\ttotal: 6.79s\tremaining: 42.8s\n",
            "137:\tlearn: 0.0011270\ttotal: 6.84s\tremaining: 42.7s\n",
            "138:\tlearn: 0.0011226\ttotal: 6.89s\tremaining: 42.7s\n",
            "139:\tlearn: 0.0011191\ttotal: 6.94s\tremaining: 42.6s\n",
            "140:\tlearn: 0.0011173\ttotal: 6.99s\tremaining: 42.6s\n",
            "141:\tlearn: 0.0011081\ttotal: 7.04s\tremaining: 42.5s\n",
            "142:\tlearn: 0.0011063\ttotal: 7.08s\tremaining: 42.5s\n",
            "143:\tlearn: 0.0011021\ttotal: 7.13s\tremaining: 42.4s\n",
            "144:\tlearn: 0.0010940\ttotal: 7.18s\tremaining: 42.3s\n",
            "145:\tlearn: 0.0010910\ttotal: 7.23s\tremaining: 42.3s\n",
            "146:\tlearn: 0.0010816\ttotal: 7.28s\tremaining: 42.2s\n",
            "147:\tlearn: 0.0010772\ttotal: 7.33s\tremaining: 42.2s\n",
            "148:\tlearn: 0.0010717\ttotal: 7.38s\tremaining: 42.1s\n",
            "149:\tlearn: 0.0010683\ttotal: 7.43s\tremaining: 42.1s\n",
            "150:\tlearn: 0.0010657\ttotal: 7.47s\tremaining: 42s\n",
            "151:\tlearn: 0.0010590\ttotal: 7.52s\tremaining: 42s\n",
            "152:\tlearn: 0.0010563\ttotal: 7.57s\tremaining: 41.9s\n",
            "153:\tlearn: 0.0010519\ttotal: 7.63s\tremaining: 41.9s\n",
            "154:\tlearn: 0.0010494\ttotal: 7.67s\tremaining: 41.8s\n",
            "155:\tlearn: 0.0010441\ttotal: 7.73s\tremaining: 41.8s\n",
            "156:\tlearn: 0.0010420\ttotal: 7.77s\tremaining: 41.7s\n",
            "157:\tlearn: 0.0010397\ttotal: 7.82s\tremaining: 41.7s\n",
            "158:\tlearn: 0.0010369\ttotal: 7.87s\tremaining: 41.6s\n",
            "159:\tlearn: 0.0010348\ttotal: 7.92s\tremaining: 41.6s\n",
            "160:\tlearn: 0.0010311\ttotal: 7.96s\tremaining: 41.5s\n",
            "161:\tlearn: 0.0010280\ttotal: 8.01s\tremaining: 41.4s\n",
            "162:\tlearn: 0.0010204\ttotal: 8.07s\tremaining: 41.4s\n",
            "163:\tlearn: 0.0010184\ttotal: 8.12s\tremaining: 41.4s\n",
            "164:\tlearn: 0.0010145\ttotal: 8.17s\tremaining: 41.3s\n",
            "165:\tlearn: 0.0010120\ttotal: 8.21s\tremaining: 41.3s\n",
            "166:\tlearn: 0.0010027\ttotal: 8.26s\tremaining: 41.2s\n",
            "167:\tlearn: 0.0010004\ttotal: 8.3s\tremaining: 41.1s\n",
            "168:\tlearn: 0.0009971\ttotal: 8.36s\tremaining: 41.1s\n",
            "169:\tlearn: 0.0009946\ttotal: 8.41s\tremaining: 41s\n",
            "170:\tlearn: 0.0009924\ttotal: 8.45s\tremaining: 41s\n",
            "171:\tlearn: 0.0009903\ttotal: 8.49s\tremaining: 40.9s\n",
            "172:\tlearn: 0.0009856\ttotal: 8.54s\tremaining: 40.8s\n",
            "173:\tlearn: 0.0009741\ttotal: 8.61s\tremaining: 40.9s\n",
            "174:\tlearn: 0.0009719\ttotal: 8.65s\tremaining: 40.8s\n",
            "175:\tlearn: 0.0009698\ttotal: 8.7s\tremaining: 40.7s\n",
            "176:\tlearn: 0.0009668\ttotal: 8.75s\tremaining: 40.7s\n",
            "177:\tlearn: 0.0009631\ttotal: 8.79s\tremaining: 40.6s\n",
            "178:\tlearn: 0.0009611\ttotal: 8.84s\tremaining: 40.6s\n",
            "179:\tlearn: 0.0009569\ttotal: 8.89s\tremaining: 40.5s\n",
            "180:\tlearn: 0.0009485\ttotal: 8.94s\tremaining: 40.5s\n",
            "181:\tlearn: 0.0009349\ttotal: 9s\tremaining: 40.5s\n",
            "182:\tlearn: 0.0009251\ttotal: 9.06s\tremaining: 40.4s\n",
            "183:\tlearn: 0.0009203\ttotal: 9.11s\tremaining: 40.4s\n",
            "184:\tlearn: 0.0009166\ttotal: 9.16s\tremaining: 40.3s\n",
            "185:\tlearn: 0.0009143\ttotal: 9.21s\tremaining: 40.3s\n",
            "186:\tlearn: 0.0009048\ttotal: 9.27s\tremaining: 40.3s\n",
            "187:\tlearn: 0.0009032\ttotal: 9.31s\tremaining: 40.2s\n",
            "188:\tlearn: 0.0009016\ttotal: 9.37s\tremaining: 40.2s\n",
            "189:\tlearn: 0.0009000\ttotal: 9.41s\tremaining: 40.1s\n",
            "190:\tlearn: 0.0008987\ttotal: 9.46s\tremaining: 40s\n",
            "191:\tlearn: 0.0008972\ttotal: 9.5s\tremaining: 40s\n",
            "192:\tlearn: 0.0008957\ttotal: 9.55s\tremaining: 39.9s\n",
            "193:\tlearn: 0.0008945\ttotal: 9.59s\tremaining: 39.8s\n",
            "194:\tlearn: 0.0008899\ttotal: 9.65s\tremaining: 39.8s\n",
            "195:\tlearn: 0.0008830\ttotal: 9.7s\tremaining: 39.8s\n",
            "196:\tlearn: 0.0008803\ttotal: 9.75s\tremaining: 39.8s\n",
            "197:\tlearn: 0.0008778\ttotal: 9.8s\tremaining: 39.7s\n",
            "198:\tlearn: 0.0008764\ttotal: 9.85s\tremaining: 39.6s\n",
            "199:\tlearn: 0.0008740\ttotal: 9.89s\tremaining: 39.6s\n",
            "200:\tlearn: 0.0008726\ttotal: 9.94s\tremaining: 39.5s\n",
            "201:\tlearn: 0.0008711\ttotal: 9.99s\tremaining: 39.5s\n",
            "202:\tlearn: 0.0008694\ttotal: 10s\tremaining: 39.4s\n",
            "203:\tlearn: 0.0008657\ttotal: 10.1s\tremaining: 39.4s\n",
            "204:\tlearn: 0.0008620\ttotal: 10.1s\tremaining: 39.3s\n",
            "205:\tlearn: 0.0008589\ttotal: 10.2s\tremaining: 39.3s\n",
            "206:\tlearn: 0.0008530\ttotal: 10.2s\tremaining: 39.2s\n",
            "207:\tlearn: 0.0008488\ttotal: 10.3s\tremaining: 39.2s\n",
            "208:\tlearn: 0.0008443\ttotal: 10.3s\tremaining: 39.1s\n",
            "209:\tlearn: 0.0008406\ttotal: 10.4s\tremaining: 39.1s\n",
            "210:\tlearn: 0.0008365\ttotal: 10.4s\tremaining: 39s\n",
            "211:\tlearn: 0.0008353\ttotal: 10.5s\tremaining: 38.9s\n",
            "212:\tlearn: 0.0008325\ttotal: 10.5s\tremaining: 38.9s\n",
            "213:\tlearn: 0.0008297\ttotal: 10.6s\tremaining: 38.8s\n",
            "214:\tlearn: 0.0008263\ttotal: 10.6s\tremaining: 38.8s\n",
            "215:\tlearn: 0.0008252\ttotal: 10.7s\tremaining: 38.7s\n",
            "216:\tlearn: 0.0008234\ttotal: 10.7s\tremaining: 38.7s\n",
            "217:\tlearn: 0.0008210\ttotal: 10.8s\tremaining: 38.6s\n",
            "218:\tlearn: 0.0008179\ttotal: 10.8s\tremaining: 38.5s\n",
            "219:\tlearn: 0.0008148\ttotal: 10.9s\tremaining: 38.5s\n",
            "220:\tlearn: 0.0008138\ttotal: 10.9s\tremaining: 38.4s\n",
            "221:\tlearn: 0.0008108\ttotal: 11s\tremaining: 38.4s\n",
            "222:\tlearn: 0.0008062\ttotal: 11s\tremaining: 38.3s\n",
            "223:\tlearn: 0.0008047\ttotal: 11s\tremaining: 38.3s\n",
            "224:\tlearn: 0.0008012\ttotal: 11.1s\tremaining: 38.2s\n",
            "225:\tlearn: 0.0007967\ttotal: 11.1s\tremaining: 38.2s\n",
            "226:\tlearn: 0.0007943\ttotal: 11.2s\tremaining: 38.1s\n",
            "227:\tlearn: 0.0007907\ttotal: 11.3s\tremaining: 38.1s\n",
            "228:\tlearn: 0.0007894\ttotal: 11.3s\tremaining: 38.1s\n",
            "229:\tlearn: 0.0007880\ttotal: 11.3s\tremaining: 38s\n",
            "230:\tlearn: 0.0007862\ttotal: 11.4s\tremaining: 37.9s\n",
            "231:\tlearn: 0.0007839\ttotal: 11.4s\tremaining: 37.9s\n",
            "232:\tlearn: 0.0007830\ttotal: 11.5s\tremaining: 37.8s\n",
            "233:\tlearn: 0.0007788\ttotal: 11.5s\tremaining: 37.8s\n",
            "234:\tlearn: 0.0007773\ttotal: 11.6s\tremaining: 37.7s\n",
            "235:\tlearn: 0.0007763\ttotal: 11.6s\tremaining: 37.7s\n",
            "236:\tlearn: 0.0007742\ttotal: 11.7s\tremaining: 37.6s\n",
            "237:\tlearn: 0.0007723\ttotal: 11.7s\tremaining: 37.6s\n",
            "238:\tlearn: 0.0007696\ttotal: 11.8s\tremaining: 37.5s\n",
            "239:\tlearn: 0.0007668\ttotal: 11.8s\tremaining: 37.5s\n",
            "240:\tlearn: 0.0007658\ttotal: 11.9s\tremaining: 37.4s\n",
            "241:\tlearn: 0.0007634\ttotal: 11.9s\tremaining: 37.4s\n",
            "242:\tlearn: 0.0007618\ttotal: 12s\tremaining: 37.3s\n",
            "243:\tlearn: 0.0007589\ttotal: 12s\tremaining: 37.2s\n",
            "244:\tlearn: 0.0007566\ttotal: 12.1s\tremaining: 37.2s\n",
            "245:\tlearn: 0.0007554\ttotal: 12.1s\tremaining: 37.1s\n",
            "246:\tlearn: 0.0007513\ttotal: 12.2s\tremaining: 37.1s\n",
            "247:\tlearn: 0.0007494\ttotal: 12.2s\tremaining: 37s\n",
            "248:\tlearn: 0.0007477\ttotal: 12.3s\tremaining: 37s\n",
            "249:\tlearn: 0.0007460\ttotal: 12.3s\tremaining: 36.9s\n",
            "250:\tlearn: 0.0007444\ttotal: 12.4s\tremaining: 36.9s\n",
            "251:\tlearn: 0.0007428\ttotal: 12.4s\tremaining: 36.8s\n",
            "252:\tlearn: 0.0007397\ttotal: 12.4s\tremaining: 36.8s\n",
            "253:\tlearn: 0.0007382\ttotal: 12.5s\tremaining: 36.7s\n",
            "254:\tlearn: 0.0007349\ttotal: 12.5s\tremaining: 36.6s\n",
            "255:\tlearn: 0.0007325\ttotal: 12.6s\tremaining: 36.6s\n",
            "256:\tlearn: 0.0007310\ttotal: 12.6s\tremaining: 36.5s\n",
            "257:\tlearn: 0.0007303\ttotal: 12.7s\tremaining: 36.5s\n",
            "258:\tlearn: 0.0007289\ttotal: 12.7s\tremaining: 36.4s\n",
            "259:\tlearn: 0.0007255\ttotal: 12.8s\tremaining: 36.4s\n",
            "260:\tlearn: 0.0007209\ttotal: 12.8s\tremaining: 36.3s\n",
            "261:\tlearn: 0.0007190\ttotal: 12.9s\tremaining: 36.3s\n",
            "262:\tlearn: 0.0007171\ttotal: 12.9s\tremaining: 36.2s\n",
            "263:\tlearn: 0.0007140\ttotal: 13s\tremaining: 36.2s\n",
            "264:\tlearn: 0.0007103\ttotal: 13s\tremaining: 36.1s\n",
            "265:\tlearn: 0.0007091\ttotal: 13.1s\tremaining: 36.1s\n",
            "266:\tlearn: 0.0007069\ttotal: 13.1s\tremaining: 36s\n",
            "267:\tlearn: 0.0007057\ttotal: 13.2s\tremaining: 36s\n",
            "268:\tlearn: 0.0007027\ttotal: 13.2s\tremaining: 35.9s\n",
            "269:\tlearn: 0.0007017\ttotal: 13.3s\tremaining: 35.9s\n",
            "270:\tlearn: 0.0006991\ttotal: 13.3s\tremaining: 35.8s\n",
            "271:\tlearn: 0.0006981\ttotal: 13.3s\tremaining: 35.7s\n",
            "272:\tlearn: 0.0006955\ttotal: 13.4s\tremaining: 35.7s\n",
            "273:\tlearn: 0.0006941\ttotal: 13.5s\tremaining: 35.7s\n",
            "274:\tlearn: 0.0006905\ttotal: 13.5s\tremaining: 35.6s\n",
            "275:\tlearn: 0.0006895\ttotal: 13.6s\tremaining: 35.6s\n",
            "276:\tlearn: 0.0006878\ttotal: 13.6s\tremaining: 35.5s\n",
            "277:\tlearn: 0.0006874\ttotal: 13.7s\tremaining: 35.5s\n",
            "278:\tlearn: 0.0006849\ttotal: 13.7s\tremaining: 35.4s\n",
            "279:\tlearn: 0.0006843\ttotal: 13.8s\tremaining: 35.4s\n",
            "280:\tlearn: 0.0006818\ttotal: 13.8s\tremaining: 35.3s\n",
            "281:\tlearn: 0.0006746\ttotal: 13.8s\tremaining: 35.3s\n",
            "282:\tlearn: 0.0006737\ttotal: 13.9s\tremaining: 35.2s\n",
            "283:\tlearn: 0.0006653\ttotal: 14s\tremaining: 35.2s\n",
            "284:\tlearn: 0.0006640\ttotal: 14s\tremaining: 35.1s\n",
            "285:\tlearn: 0.0006621\ttotal: 14.1s\tremaining: 35.1s\n",
            "286:\tlearn: 0.0006606\ttotal: 14.1s\tremaining: 35s\n",
            "287:\tlearn: 0.0006587\ttotal: 14.2s\tremaining: 35s\n",
            "288:\tlearn: 0.0006562\ttotal: 14.2s\tremaining: 34.9s\n",
            "289:\tlearn: 0.0006546\ttotal: 14.2s\tremaining: 34.9s\n",
            "290:\tlearn: 0.0006540\ttotal: 14.3s\tremaining: 34.8s\n",
            "291:\tlearn: 0.0006493\ttotal: 14.3s\tremaining: 34.8s\n",
            "292:\tlearn: 0.0006441\ttotal: 14.4s\tremaining: 34.7s\n",
            "293:\tlearn: 0.0006429\ttotal: 14.4s\tremaining: 34.7s\n",
            "294:\tlearn: 0.0006401\ttotal: 14.5s\tremaining: 34.7s\n",
            "295:\tlearn: 0.0006394\ttotal: 14.6s\tremaining: 34.6s\n",
            "296:\tlearn: 0.0006373\ttotal: 14.6s\tremaining: 34.6s\n",
            "297:\tlearn: 0.0006345\ttotal: 14.7s\tremaining: 34.5s\n",
            "298:\tlearn: 0.0006315\ttotal: 14.7s\tremaining: 34.5s\n",
            "299:\tlearn: 0.0006283\ttotal: 14.8s\tremaining: 34.5s\n",
            "300:\tlearn: 0.0006270\ttotal: 14.8s\tremaining: 34.4s\n",
            "301:\tlearn: 0.0006262\ttotal: 14.9s\tremaining: 34.3s\n",
            "302:\tlearn: 0.0006249\ttotal: 14.9s\tremaining: 34.3s\n",
            "303:\tlearn: 0.0006191\ttotal: 15s\tremaining: 34.2s\n",
            "304:\tlearn: 0.0006171\ttotal: 15s\tremaining: 34.2s\n",
            "305:\tlearn: 0.0006162\ttotal: 15.1s\tremaining: 34.1s\n",
            "306:\tlearn: 0.0006146\ttotal: 15.1s\tremaining: 34.1s\n",
            "307:\tlearn: 0.0006140\ttotal: 15.1s\tremaining: 34s\n",
            "308:\tlearn: 0.0006104\ttotal: 15.2s\tremaining: 34s\n",
            "309:\tlearn: 0.0006079\ttotal: 15.3s\tremaining: 34s\n",
            "310:\tlearn: 0.0006052\ttotal: 15.3s\tremaining: 33.9s\n",
            "311:\tlearn: 0.0006047\ttotal: 15.3s\tremaining: 33.8s\n",
            "312:\tlearn: 0.0006046\ttotal: 15.4s\tremaining: 33.8s\n",
            "313:\tlearn: 0.0006045\ttotal: 15.4s\tremaining: 33.7s\n",
            "314:\tlearn: 0.0006027\ttotal: 15.5s\tremaining: 33.7s\n",
            "315:\tlearn: 0.0006006\ttotal: 15.5s\tremaining: 33.6s\n",
            "316:\tlearn: 0.0006001\ttotal: 15.6s\tremaining: 33.5s\n",
            "317:\tlearn: 0.0005942\ttotal: 15.6s\tremaining: 33.5s\n",
            "318:\tlearn: 0.0005935\ttotal: 15.7s\tremaining: 33.5s\n",
            "319:\tlearn: 0.0005920\ttotal: 15.7s\tremaining: 33.4s\n",
            "320:\tlearn: 0.0005893\ttotal: 15.8s\tremaining: 33.4s\n",
            "321:\tlearn: 0.0005870\ttotal: 15.8s\tremaining: 33.3s\n",
            "322:\tlearn: 0.0005861\ttotal: 15.9s\tremaining: 33.3s\n",
            "323:\tlearn: 0.0005851\ttotal: 15.9s\tremaining: 33.2s\n",
            "324:\tlearn: 0.0005785\ttotal: 16s\tremaining: 33.2s\n",
            "325:\tlearn: 0.0005768\ttotal: 16s\tremaining: 33.1s\n",
            "326:\tlearn: 0.0005741\ttotal: 16.1s\tremaining: 33.1s\n",
            "327:\tlearn: 0.0005695\ttotal: 16.1s\tremaining: 33s\n",
            "328:\tlearn: 0.0005680\ttotal: 16.2s\tremaining: 33s\n",
            "329:\tlearn: 0.0005666\ttotal: 16.2s\tremaining: 32.9s\n",
            "330:\tlearn: 0.0005666\ttotal: 16.3s\tremaining: 32.9s\n",
            "331:\tlearn: 0.0005632\ttotal: 16.3s\tremaining: 32.8s\n",
            "332:\tlearn: 0.0005616\ttotal: 16.4s\tremaining: 32.8s\n",
            "333:\tlearn: 0.0005604\ttotal: 16.4s\tremaining: 32.7s\n",
            "334:\tlearn: 0.0005580\ttotal: 16.5s\tremaining: 32.7s\n",
            "335:\tlearn: 0.0005579\ttotal: 16.5s\tremaining: 32.6s\n",
            "336:\tlearn: 0.0005561\ttotal: 16.5s\tremaining: 32.6s\n",
            "337:\tlearn: 0.0005561\ttotal: 16.6s\tremaining: 32.5s\n",
            "338:\tlearn: 0.0005554\ttotal: 16.6s\tremaining: 32.4s\n",
            "339:\tlearn: 0.0005538\ttotal: 16.7s\tremaining: 32.4s\n",
            "340:\tlearn: 0.0005528\ttotal: 16.7s\tremaining: 32.3s\n",
            "341:\tlearn: 0.0005495\ttotal: 16.8s\tremaining: 32.3s\n",
            "342:\tlearn: 0.0005478\ttotal: 16.8s\tremaining: 32.2s\n",
            "343:\tlearn: 0.0005468\ttotal: 16.9s\tremaining: 32.2s\n",
            "344:\tlearn: 0.0005468\ttotal: 16.9s\tremaining: 32.1s\n",
            "345:\tlearn: 0.0005427\ttotal: 17s\tremaining: 32.1s\n",
            "346:\tlearn: 0.0005411\ttotal: 17s\tremaining: 32s\n",
            "347:\tlearn: 0.0005403\ttotal: 17.1s\tremaining: 32s\n",
            "348:\tlearn: 0.0005402\ttotal: 17.1s\tremaining: 31.9s\n",
            "349:\tlearn: 0.0005370\ttotal: 17.2s\tremaining: 31.9s\n",
            "350:\tlearn: 0.0005361\ttotal: 17.2s\tremaining: 31.8s\n",
            "351:\tlearn: 0.0005338\ttotal: 17.2s\tremaining: 31.7s\n",
            "352:\tlearn: 0.0005324\ttotal: 17.3s\tremaining: 31.7s\n",
            "353:\tlearn: 0.0005301\ttotal: 17.3s\tremaining: 31.6s\n",
            "354:\tlearn: 0.0005277\ttotal: 17.4s\tremaining: 31.6s\n",
            "355:\tlearn: 0.0005238\ttotal: 17.4s\tremaining: 31.6s\n",
            "356:\tlearn: 0.0005231\ttotal: 17.5s\tremaining: 31.5s\n",
            "357:\tlearn: 0.0005225\ttotal: 17.5s\tremaining: 31.4s\n",
            "358:\tlearn: 0.0005217\ttotal: 17.6s\tremaining: 31.4s\n",
            "359:\tlearn: 0.0005204\ttotal: 17.6s\tremaining: 31.3s\n",
            "360:\tlearn: 0.0005168\ttotal: 17.7s\tremaining: 31.3s\n",
            "361:\tlearn: 0.0005146\ttotal: 17.7s\tremaining: 31.3s\n",
            "362:\tlearn: 0.0005113\ttotal: 17.8s\tremaining: 31.2s\n",
            "363:\tlearn: 0.0005082\ttotal: 17.8s\tremaining: 31.2s\n",
            "364:\tlearn: 0.0005068\ttotal: 17.9s\tremaining: 31.1s\n",
            "365:\tlearn: 0.0005051\ttotal: 17.9s\tremaining: 31.1s\n",
            "366:\tlearn: 0.0004998\ttotal: 18s\tremaining: 31s\n",
            "367:\tlearn: 0.0004993\ttotal: 18s\tremaining: 31s\n",
            "368:\tlearn: 0.0004946\ttotal: 18.1s\tremaining: 30.9s\n",
            "369:\tlearn: 0.0004926\ttotal: 18.1s\tremaining: 30.9s\n",
            "370:\tlearn: 0.0004919\ttotal: 18.2s\tremaining: 30.8s\n",
            "371:\tlearn: 0.0004894\ttotal: 18.2s\tremaining: 30.8s\n",
            "372:\tlearn: 0.0004881\ttotal: 18.3s\tremaining: 30.7s\n",
            "373:\tlearn: 0.0004853\ttotal: 18.3s\tremaining: 30.7s\n",
            "374:\tlearn: 0.0004842\ttotal: 18.4s\tremaining: 30.6s\n",
            "375:\tlearn: 0.0004835\ttotal: 18.4s\tremaining: 30.6s\n",
            "376:\tlearn: 0.0004813\ttotal: 18.5s\tremaining: 30.5s\n",
            "377:\tlearn: 0.0004794\ttotal: 18.5s\tremaining: 30.5s\n",
            "378:\tlearn: 0.0004786\ttotal: 18.6s\tremaining: 30.4s\n",
            "379:\tlearn: 0.0004782\ttotal: 18.6s\tremaining: 30.3s\n",
            "380:\tlearn: 0.0004772\ttotal: 18.6s\tremaining: 30.3s\n",
            "381:\tlearn: 0.0004748\ttotal: 18.7s\tremaining: 30.2s\n",
            "382:\tlearn: 0.0004728\ttotal: 18.7s\tremaining: 30.2s\n",
            "383:\tlearn: 0.0004722\ttotal: 18.8s\tremaining: 30.1s\n",
            "384:\tlearn: 0.0004709\ttotal: 18.8s\tremaining: 30.1s\n",
            "385:\tlearn: 0.0004689\ttotal: 18.9s\tremaining: 30s\n",
            "386:\tlearn: 0.0004679\ttotal: 18.9s\tremaining: 30s\n",
            "387:\tlearn: 0.0004652\ttotal: 19s\tremaining: 29.9s\n",
            "388:\tlearn: 0.0004632\ttotal: 19s\tremaining: 29.9s\n",
            "389:\tlearn: 0.0004618\ttotal: 19.1s\tremaining: 29.8s\n",
            "390:\tlearn: 0.0004580\ttotal: 19.1s\tremaining: 29.8s\n",
            "391:\tlearn: 0.0004566\ttotal: 19.2s\tremaining: 29.7s\n",
            "392:\tlearn: 0.0004533\ttotal: 19.2s\tremaining: 29.7s\n",
            "393:\tlearn: 0.0004529\ttotal: 19.3s\tremaining: 29.6s\n",
            "394:\tlearn: 0.0004513\ttotal: 19.3s\tremaining: 29.6s\n",
            "395:\tlearn: 0.0004484\ttotal: 19.4s\tremaining: 29.5s\n",
            "396:\tlearn: 0.0004471\ttotal: 19.4s\tremaining: 29.5s\n",
            "397:\tlearn: 0.0004464\ttotal: 19.5s\tremaining: 29.4s\n",
            "398:\tlearn: 0.0004455\ttotal: 19.5s\tremaining: 29.4s\n",
            "399:\tlearn: 0.0004396\ttotal: 19.6s\tremaining: 29.3s\n",
            "400:\tlearn: 0.0004381\ttotal: 19.6s\tremaining: 29.3s\n",
            "401:\tlearn: 0.0004362\ttotal: 19.7s\tremaining: 29.3s\n",
            "402:\tlearn: 0.0004356\ttotal: 19.7s\tremaining: 29.2s\n",
            "403:\tlearn: 0.0004340\ttotal: 19.8s\tremaining: 29.2s\n",
            "404:\tlearn: 0.0004311\ttotal: 19.8s\tremaining: 29.1s\n",
            "405:\tlearn: 0.0004305\ttotal: 19.9s\tremaining: 29.1s\n",
            "406:\tlearn: 0.0004305\ttotal: 19.9s\tremaining: 29s\n",
            "407:\tlearn: 0.0004254\ttotal: 20s\tremaining: 29s\n",
            "408:\tlearn: 0.0004247\ttotal: 20s\tremaining: 28.9s\n",
            "409:\tlearn: 0.0004238\ttotal: 20s\tremaining: 28.8s\n",
            "410:\tlearn: 0.0004236\ttotal: 20.1s\tremaining: 28.8s\n",
            "411:\tlearn: 0.0004222\ttotal: 20.1s\tremaining: 28.8s\n",
            "412:\tlearn: 0.0004195\ttotal: 20.2s\tremaining: 28.7s\n",
            "413:\tlearn: 0.0004168\ttotal: 20.3s\tremaining: 28.7s\n",
            "414:\tlearn: 0.0004133\ttotal: 20.3s\tremaining: 28.6s\n",
            "415:\tlearn: 0.0004101\ttotal: 20.3s\tremaining: 28.6s\n",
            "416:\tlearn: 0.0004063\ttotal: 20.4s\tremaining: 28.5s\n",
            "417:\tlearn: 0.0004010\ttotal: 20.4s\tremaining: 28.5s\n",
            "418:\tlearn: 0.0004003\ttotal: 20.5s\tremaining: 28.4s\n",
            "419:\tlearn: 0.0004000\ttotal: 20.5s\tremaining: 28.4s\n",
            "420:\tlearn: 0.0003984\ttotal: 20.6s\tremaining: 28.3s\n",
            "421:\tlearn: 0.0003961\ttotal: 20.6s\tremaining: 28.3s\n",
            "422:\tlearn: 0.0003927\ttotal: 20.7s\tremaining: 28.2s\n",
            "423:\tlearn: 0.0003895\ttotal: 20.8s\tremaining: 28.2s\n",
            "424:\tlearn: 0.0003886\ttotal: 20.8s\tremaining: 28.1s\n",
            "425:\tlearn: 0.0003881\ttotal: 20.8s\tremaining: 28.1s\n",
            "426:\tlearn: 0.0003860\ttotal: 20.9s\tremaining: 28s\n",
            "427:\tlearn: 0.0003860\ttotal: 20.9s\tremaining: 28s\n",
            "428:\tlearn: 0.0003844\ttotal: 21s\tremaining: 27.9s\n",
            "429:\tlearn: 0.0003836\ttotal: 21s\tremaining: 27.9s\n",
            "430:\tlearn: 0.0003832\ttotal: 21.1s\tremaining: 27.8s\n",
            "431:\tlearn: 0.0003800\ttotal: 21.1s\tremaining: 27.8s\n",
            "432:\tlearn: 0.0003800\ttotal: 21.2s\tremaining: 27.7s\n",
            "433:\tlearn: 0.0003781\ttotal: 21.2s\tremaining: 27.7s\n",
            "434:\tlearn: 0.0003761\ttotal: 21.3s\tremaining: 27.6s\n",
            "435:\tlearn: 0.0003749\ttotal: 21.3s\tremaining: 27.6s\n",
            "436:\tlearn: 0.0003731\ttotal: 21.4s\tremaining: 27.5s\n",
            "437:\tlearn: 0.0003715\ttotal: 21.4s\tremaining: 27.5s\n",
            "438:\tlearn: 0.0003691\ttotal: 21.5s\tremaining: 27.4s\n",
            "439:\tlearn: 0.0003678\ttotal: 21.5s\tremaining: 27.4s\n",
            "440:\tlearn: 0.0003649\ttotal: 21.6s\tremaining: 27.3s\n",
            "441:\tlearn: 0.0003633\ttotal: 21.6s\tremaining: 27.3s\n",
            "442:\tlearn: 0.0003611\ttotal: 21.7s\tremaining: 27.3s\n",
            "443:\tlearn: 0.0003608\ttotal: 21.7s\tremaining: 27.2s\n",
            "444:\tlearn: 0.0003594\ttotal: 21.8s\tremaining: 27.2s\n",
            "445:\tlearn: 0.0003568\ttotal: 21.8s\tremaining: 27.1s\n",
            "446:\tlearn: 0.0003543\ttotal: 21.9s\tremaining: 27.1s\n",
            "447:\tlearn: 0.0003530\ttotal: 21.9s\tremaining: 27s\n",
            "448:\tlearn: 0.0003508\ttotal: 22s\tremaining: 27s\n",
            "449:\tlearn: 0.0003502\ttotal: 22s\tremaining: 26.9s\n",
            "450:\tlearn: 0.0003494\ttotal: 22.1s\tremaining: 26.9s\n",
            "451:\tlearn: 0.0003463\ttotal: 22.1s\tremaining: 26.8s\n",
            "452:\tlearn: 0.0003438\ttotal: 22.2s\tremaining: 26.8s\n",
            "453:\tlearn: 0.0003392\ttotal: 22.2s\tremaining: 26.7s\n",
            "454:\tlearn: 0.0003358\ttotal: 22.3s\tremaining: 26.7s\n",
            "455:\tlearn: 0.0003347\ttotal: 22.3s\tremaining: 26.6s\n",
            "456:\tlearn: 0.0003341\ttotal: 22.4s\tremaining: 26.6s\n",
            "457:\tlearn: 0.0003287\ttotal: 22.4s\tremaining: 26.5s\n",
            "458:\tlearn: 0.0003269\ttotal: 22.5s\tremaining: 26.5s\n",
            "459:\tlearn: 0.0003250\ttotal: 22.5s\tremaining: 26.4s\n",
            "460:\tlearn: 0.0003250\ttotal: 22.6s\tremaining: 26.4s\n",
            "461:\tlearn: 0.0003237\ttotal: 22.6s\tremaining: 26.3s\n",
            "462:\tlearn: 0.0003216\ttotal: 22.7s\tremaining: 26.3s\n",
            "463:\tlearn: 0.0003201\ttotal: 22.7s\tremaining: 26.2s\n",
            "464:\tlearn: 0.0003184\ttotal: 22.8s\tremaining: 26.2s\n",
            "465:\tlearn: 0.0003153\ttotal: 22.8s\tremaining: 26.1s\n",
            "466:\tlearn: 0.0003136\ttotal: 22.9s\tremaining: 26.1s\n",
            "467:\tlearn: 0.0003098\ttotal: 22.9s\tremaining: 26.1s\n",
            "468:\tlearn: 0.0003086\ttotal: 23s\tremaining: 26s\n",
            "469:\tlearn: 0.0003086\ttotal: 23s\tremaining: 26s\n",
            "470:\tlearn: 0.0003083\ttotal: 23.1s\tremaining: 25.9s\n",
            "471:\tlearn: 0.0003077\ttotal: 23.1s\tremaining: 25.9s\n",
            "472:\tlearn: 0.0003043\ttotal: 23.2s\tremaining: 25.8s\n",
            "473:\tlearn: 0.0003034\ttotal: 23.2s\tremaining: 25.8s\n",
            "474:\tlearn: 0.0003008\ttotal: 23.3s\tremaining: 25.7s\n",
            "475:\tlearn: 0.0002994\ttotal: 23.3s\tremaining: 25.7s\n",
            "476:\tlearn: 0.0002967\ttotal: 23.4s\tremaining: 25.6s\n",
            "477:\tlearn: 0.0002943\ttotal: 23.4s\tremaining: 25.6s\n",
            "478:\tlearn: 0.0002933\ttotal: 23.5s\tremaining: 25.5s\n",
            "479:\tlearn: 0.0002925\ttotal: 23.5s\tremaining: 25.5s\n",
            "480:\tlearn: 0.0002916\ttotal: 23.6s\tremaining: 25.4s\n",
            "481:\tlearn: 0.0002904\ttotal: 23.6s\tremaining: 25.4s\n",
            "482:\tlearn: 0.0002895\ttotal: 23.7s\tremaining: 25.3s\n",
            "483:\tlearn: 0.0002885\ttotal: 23.7s\tremaining: 25.3s\n",
            "484:\tlearn: 0.0002881\ttotal: 23.8s\tremaining: 25.3s\n",
            "485:\tlearn: 0.0002881\ttotal: 23.8s\tremaining: 25.2s\n",
            "486:\tlearn: 0.0002860\ttotal: 23.9s\tremaining: 25.2s\n",
            "487:\tlearn: 0.0002852\ttotal: 23.9s\tremaining: 25.1s\n",
            "488:\tlearn: 0.0002840\ttotal: 24s\tremaining: 25.1s\n",
            "489:\tlearn: 0.0002837\ttotal: 24s\tremaining: 25s\n",
            "490:\tlearn: 0.0002826\ttotal: 24.1s\tremaining: 24.9s\n",
            "491:\tlearn: 0.0002807\ttotal: 24.1s\tremaining: 24.9s\n",
            "492:\tlearn: 0.0002805\ttotal: 24.2s\tremaining: 24.9s\n",
            "493:\tlearn: 0.0002800\ttotal: 24.2s\tremaining: 24.8s\n",
            "494:\tlearn: 0.0002794\ttotal: 24.3s\tremaining: 24.8s\n",
            "495:\tlearn: 0.0002791\ttotal: 24.3s\tremaining: 24.7s\n",
            "496:\tlearn: 0.0002784\ttotal: 24.4s\tremaining: 24.7s\n",
            "497:\tlearn: 0.0002761\ttotal: 24.4s\tremaining: 24.6s\n",
            "498:\tlearn: 0.0002757\ttotal: 24.5s\tremaining: 24.6s\n",
            "499:\tlearn: 0.0002744\ttotal: 24.5s\tremaining: 24.5s\n",
            "500:\tlearn: 0.0002742\ttotal: 24.6s\tremaining: 24.5s\n",
            "501:\tlearn: 0.0002723\ttotal: 24.6s\tremaining: 24.4s\n",
            "502:\tlearn: 0.0002722\ttotal: 24.7s\tremaining: 24.4s\n",
            "503:\tlearn: 0.0002708\ttotal: 24.7s\tremaining: 24.3s\n",
            "504:\tlearn: 0.0002685\ttotal: 24.8s\tremaining: 24.3s\n",
            "505:\tlearn: 0.0002679\ttotal: 24.8s\tremaining: 24.2s\n",
            "506:\tlearn: 0.0002672\ttotal: 24.9s\tremaining: 24.2s\n",
            "507:\tlearn: 0.0002672\ttotal: 24.9s\tremaining: 24.1s\n",
            "508:\tlearn: 0.0002664\ttotal: 25s\tremaining: 24.1s\n",
            "509:\tlearn: 0.0002622\ttotal: 25s\tremaining: 24s\n",
            "510:\tlearn: 0.0002604\ttotal: 25.1s\tremaining: 24s\n",
            "511:\tlearn: 0.0002597\ttotal: 25.1s\tremaining: 24s\n",
            "512:\tlearn: 0.0002596\ttotal: 25.2s\tremaining: 23.9s\n",
            "513:\tlearn: 0.0002595\ttotal: 25.2s\tremaining: 23.8s\n",
            "514:\tlearn: 0.0002593\ttotal: 25.3s\tremaining: 23.8s\n",
            "515:\tlearn: 0.0002589\ttotal: 25.3s\tremaining: 23.7s\n",
            "516:\tlearn: 0.0002577\ttotal: 25.4s\tremaining: 23.7s\n",
            "517:\tlearn: 0.0002566\ttotal: 25.4s\tremaining: 23.6s\n",
            "518:\tlearn: 0.0002558\ttotal: 25.5s\tremaining: 23.6s\n",
            "519:\tlearn: 0.0002540\ttotal: 25.5s\tremaining: 23.5s\n",
            "520:\tlearn: 0.0002538\ttotal: 25.5s\tremaining: 23.5s\n",
            "521:\tlearn: 0.0002535\ttotal: 25.6s\tremaining: 23.4s\n",
            "522:\tlearn: 0.0002513\ttotal: 25.7s\tremaining: 23.4s\n",
            "523:\tlearn: 0.0002499\ttotal: 25.7s\tremaining: 23.4s\n",
            "524:\tlearn: 0.0002494\ttotal: 25.8s\tremaining: 23.3s\n",
            "525:\tlearn: 0.0002485\ttotal: 25.8s\tremaining: 23.3s\n",
            "526:\tlearn: 0.0002478\ttotal: 25.9s\tremaining: 23.2s\n",
            "527:\tlearn: 0.0002471\ttotal: 25.9s\tremaining: 23.2s\n",
            "528:\tlearn: 0.0002469\ttotal: 25.9s\tremaining: 23.1s\n",
            "529:\tlearn: 0.0002463\ttotal: 26s\tremaining: 23.1s\n",
            "530:\tlearn: 0.0002446\ttotal: 26.1s\tremaining: 23s\n",
            "531:\tlearn: 0.0002438\ttotal: 26.1s\tremaining: 23s\n",
            "532:\tlearn: 0.0002430\ttotal: 26.2s\tremaining: 22.9s\n",
            "533:\tlearn: 0.0002425\ttotal: 26.2s\tremaining: 22.9s\n",
            "534:\tlearn: 0.0002419\ttotal: 26.2s\tremaining: 22.8s\n",
            "535:\tlearn: 0.0002400\ttotal: 26.3s\tremaining: 22.8s\n",
            "536:\tlearn: 0.0002395\ttotal: 26.3s\tremaining: 22.7s\n",
            "537:\tlearn: 0.0002388\ttotal: 26.4s\tremaining: 22.7s\n",
            "538:\tlearn: 0.0002369\ttotal: 26.4s\tremaining: 22.6s\n",
            "539:\tlearn: 0.0002352\ttotal: 26.5s\tremaining: 22.6s\n",
            "540:\tlearn: 0.0002350\ttotal: 26.5s\tremaining: 22.5s\n",
            "541:\tlearn: 0.0002324\ttotal: 26.6s\tremaining: 22.5s\n",
            "542:\tlearn: 0.0002317\ttotal: 26.6s\tremaining: 22.4s\n",
            "543:\tlearn: 0.0002313\ttotal: 26.7s\tremaining: 22.4s\n",
            "544:\tlearn: 0.0002310\ttotal: 26.7s\tremaining: 22.3s\n",
            "545:\tlearn: 0.0002301\ttotal: 26.8s\tremaining: 22.3s\n",
            "546:\tlearn: 0.0002298\ttotal: 26.8s\tremaining: 22.2s\n",
            "547:\tlearn: 0.0002285\ttotal: 26.9s\tremaining: 22.2s\n",
            "548:\tlearn: 0.0002279\ttotal: 26.9s\tremaining: 22.1s\n",
            "549:\tlearn: 0.0002274\ttotal: 27s\tremaining: 22.1s\n",
            "550:\tlearn: 0.0002269\ttotal: 27s\tremaining: 22s\n",
            "551:\tlearn: 0.0002269\ttotal: 27.1s\tremaining: 22s\n",
            "552:\tlearn: 0.0002268\ttotal: 27.1s\tremaining: 21.9s\n",
            "553:\tlearn: 0.0002250\ttotal: 27.2s\tremaining: 21.9s\n",
            "554:\tlearn: 0.0002250\ttotal: 27.2s\tremaining: 21.8s\n",
            "555:\tlearn: 0.0002248\ttotal: 27.3s\tremaining: 21.8s\n",
            "556:\tlearn: 0.0002226\ttotal: 27.3s\tremaining: 21.7s\n",
            "557:\tlearn: 0.0002223\ttotal: 27.4s\tremaining: 21.7s\n",
            "558:\tlearn: 0.0002218\ttotal: 27.4s\tremaining: 21.6s\n",
            "559:\tlearn: 0.0002200\ttotal: 27.5s\tremaining: 21.6s\n",
            "560:\tlearn: 0.0002188\ttotal: 27.5s\tremaining: 21.5s\n",
            "561:\tlearn: 0.0002185\ttotal: 27.6s\tremaining: 21.5s\n",
            "562:\tlearn: 0.0002183\ttotal: 27.6s\tremaining: 21.4s\n",
            "563:\tlearn: 0.0002181\ttotal: 27.6s\tremaining: 21.4s\n",
            "564:\tlearn: 0.0002173\ttotal: 27.7s\tremaining: 21.3s\n",
            "565:\tlearn: 0.0002170\ttotal: 27.8s\tremaining: 21.3s\n",
            "566:\tlearn: 0.0002169\ttotal: 27.8s\tremaining: 21.2s\n",
            "567:\tlearn: 0.0002148\ttotal: 27.8s\tremaining: 21.2s\n",
            "568:\tlearn: 0.0002146\ttotal: 27.9s\tremaining: 21.1s\n",
            "569:\tlearn: 0.0002141\ttotal: 27.9s\tremaining: 21.1s\n",
            "570:\tlearn: 0.0002129\ttotal: 28s\tremaining: 21s\n",
            "571:\tlearn: 0.0002109\ttotal: 28s\tremaining: 21s\n",
            "572:\tlearn: 0.0002101\ttotal: 28.1s\tremaining: 20.9s\n",
            "573:\tlearn: 0.0002087\ttotal: 28.1s\tremaining: 20.9s\n",
            "574:\tlearn: 0.0002082\ttotal: 28.2s\tremaining: 20.8s\n",
            "575:\tlearn: 0.0002067\ttotal: 28.2s\tremaining: 20.8s\n",
            "576:\tlearn: 0.0002051\ttotal: 28.3s\tremaining: 20.7s\n",
            "577:\tlearn: 0.0002032\ttotal: 28.3s\tremaining: 20.7s\n",
            "578:\tlearn: 0.0002025\ttotal: 28.4s\tremaining: 20.6s\n",
            "579:\tlearn: 0.0002020\ttotal: 28.4s\tremaining: 20.6s\n",
            "580:\tlearn: 0.0002005\ttotal: 28.5s\tremaining: 20.5s\n",
            "581:\tlearn: 0.0001999\ttotal: 28.5s\tremaining: 20.5s\n",
            "582:\tlearn: 0.0001985\ttotal: 28.6s\tremaining: 20.4s\n",
            "583:\tlearn: 0.0001980\ttotal: 28.6s\tremaining: 20.4s\n",
            "584:\tlearn: 0.0001977\ttotal: 28.7s\tremaining: 20.3s\n",
            "585:\tlearn: 0.0001969\ttotal: 28.7s\tremaining: 20.3s\n",
            "586:\tlearn: 0.0001968\ttotal: 28.8s\tremaining: 20.2s\n",
            "587:\tlearn: 0.0001959\ttotal: 28.8s\tremaining: 20.2s\n",
            "588:\tlearn: 0.0001953\ttotal: 28.9s\tremaining: 20.1s\n",
            "589:\tlearn: 0.0001939\ttotal: 28.9s\tremaining: 20.1s\n",
            "590:\tlearn: 0.0001924\ttotal: 29s\tremaining: 20s\n",
            "591:\tlearn: 0.0001918\ttotal: 29s\tremaining: 20s\n",
            "592:\tlearn: 0.0001914\ttotal: 29.1s\tremaining: 19.9s\n",
            "593:\tlearn: 0.0001909\ttotal: 29.1s\tremaining: 19.9s\n",
            "594:\tlearn: 0.0001905\ttotal: 29.2s\tremaining: 19.9s\n",
            "595:\tlearn: 0.0001901\ttotal: 29.2s\tremaining: 19.8s\n",
            "596:\tlearn: 0.0001895\ttotal: 29.3s\tremaining: 19.8s\n",
            "597:\tlearn: 0.0001888\ttotal: 29.3s\tremaining: 19.7s\n",
            "598:\tlearn: 0.0001876\ttotal: 29.4s\tremaining: 19.7s\n",
            "599:\tlearn: 0.0001870\ttotal: 29.4s\tremaining: 19.6s\n",
            "600:\tlearn: 0.0001867\ttotal: 29.5s\tremaining: 19.6s\n",
            "601:\tlearn: 0.0001856\ttotal: 29.5s\tremaining: 19.5s\n",
            "602:\tlearn: 0.0001846\ttotal: 29.6s\tremaining: 19.5s\n",
            "603:\tlearn: 0.0001843\ttotal: 29.6s\tremaining: 19.4s\n",
            "604:\tlearn: 0.0001836\ttotal: 29.7s\tremaining: 19.4s\n",
            "605:\tlearn: 0.0001834\ttotal: 29.7s\tremaining: 19.3s\n",
            "606:\tlearn: 0.0001831\ttotal: 29.8s\tremaining: 19.3s\n",
            "607:\tlearn: 0.0001828\ttotal: 29.8s\tremaining: 19.2s\n",
            "608:\tlearn: 0.0001827\ttotal: 29.8s\tremaining: 19.2s\n",
            "609:\tlearn: 0.0001826\ttotal: 29.9s\tremaining: 19.1s\n",
            "610:\tlearn: 0.0001825\ttotal: 29.9s\tremaining: 19.1s\n",
            "611:\tlearn: 0.0001812\ttotal: 30s\tremaining: 19s\n",
            "612:\tlearn: 0.0001811\ttotal: 30s\tremaining: 19s\n",
            "613:\tlearn: 0.0001800\ttotal: 30.1s\tremaining: 18.9s\n",
            "614:\tlearn: 0.0001794\ttotal: 30.1s\tremaining: 18.9s\n",
            "615:\tlearn: 0.0001783\ttotal: 30.2s\tremaining: 18.8s\n",
            "616:\tlearn: 0.0001772\ttotal: 30.2s\tremaining: 18.8s\n",
            "617:\tlearn: 0.0001770\ttotal: 30.3s\tremaining: 18.7s\n",
            "618:\tlearn: 0.0001768\ttotal: 30.3s\tremaining: 18.7s\n",
            "619:\tlearn: 0.0001762\ttotal: 30.4s\tremaining: 18.6s\n",
            "620:\tlearn: 0.0001751\ttotal: 30.4s\tremaining: 18.6s\n",
            "621:\tlearn: 0.0001750\ttotal: 30.5s\tremaining: 18.5s\n",
            "622:\tlearn: 0.0001748\ttotal: 30.5s\tremaining: 18.5s\n",
            "623:\tlearn: 0.0001738\ttotal: 30.6s\tremaining: 18.4s\n",
            "624:\tlearn: 0.0001733\ttotal: 30.6s\tremaining: 18.4s\n",
            "625:\tlearn: 0.0001728\ttotal: 30.7s\tremaining: 18.3s\n",
            "626:\tlearn: 0.0001727\ttotal: 30.7s\tremaining: 18.3s\n",
            "627:\tlearn: 0.0001726\ttotal: 30.8s\tremaining: 18.2s\n",
            "628:\tlearn: 0.0001719\ttotal: 30.8s\tremaining: 18.2s\n",
            "629:\tlearn: 0.0001711\ttotal: 30.9s\tremaining: 18.1s\n",
            "630:\tlearn: 0.0001704\ttotal: 30.9s\tremaining: 18.1s\n",
            "631:\tlearn: 0.0001703\ttotal: 30.9s\tremaining: 18s\n",
            "632:\tlearn: 0.0001701\ttotal: 31s\tremaining: 18s\n",
            "633:\tlearn: 0.0001691\ttotal: 31s\tremaining: 17.9s\n",
            "634:\tlearn: 0.0001687\ttotal: 31.1s\tremaining: 17.9s\n",
            "635:\tlearn: 0.0001687\ttotal: 31.1s\tremaining: 17.8s\n",
            "636:\tlearn: 0.0001682\ttotal: 31.2s\tremaining: 17.8s\n",
            "637:\tlearn: 0.0001676\ttotal: 31.2s\tremaining: 17.7s\n",
            "638:\tlearn: 0.0001660\ttotal: 31.3s\tremaining: 17.7s\n",
            "639:\tlearn: 0.0001649\ttotal: 31.3s\tremaining: 17.6s\n",
            "640:\tlearn: 0.0001648\ttotal: 31.4s\tremaining: 17.6s\n",
            "641:\tlearn: 0.0001644\ttotal: 31.4s\tremaining: 17.5s\n",
            "642:\tlearn: 0.0001642\ttotal: 31.5s\tremaining: 17.5s\n",
            "643:\tlearn: 0.0001636\ttotal: 31.5s\tremaining: 17.4s\n",
            "644:\tlearn: 0.0001636\ttotal: 31.6s\tremaining: 17.4s\n",
            "645:\tlearn: 0.0001635\ttotal: 31.6s\tremaining: 17.3s\n",
            "646:\tlearn: 0.0001627\ttotal: 31.6s\tremaining: 17.3s\n",
            "647:\tlearn: 0.0001626\ttotal: 31.7s\tremaining: 17.2s\n",
            "648:\tlearn: 0.0001625\ttotal: 31.7s\tremaining: 17.2s\n",
            "649:\tlearn: 0.0001624\ttotal: 31.8s\tremaining: 17.1s\n",
            "650:\tlearn: 0.0001623\ttotal: 31.8s\tremaining: 17.1s\n",
            "651:\tlearn: 0.0001622\ttotal: 31.9s\tremaining: 17s\n",
            "652:\tlearn: 0.0001620\ttotal: 31.9s\tremaining: 17s\n",
            "653:\tlearn: 0.0001611\ttotal: 32s\tremaining: 16.9s\n",
            "654:\tlearn: 0.0001611\ttotal: 32s\tremaining: 16.9s\n",
            "655:\tlearn: 0.0001601\ttotal: 32.1s\tremaining: 16.8s\n",
            "656:\tlearn: 0.0001599\ttotal: 32.1s\tremaining: 16.8s\n",
            "657:\tlearn: 0.0001597\ttotal: 32.2s\tremaining: 16.7s\n",
            "658:\tlearn: 0.0001596\ttotal: 32.2s\tremaining: 16.7s\n",
            "659:\tlearn: 0.0001595\ttotal: 32.2s\tremaining: 16.6s\n",
            "660:\tlearn: 0.0001585\ttotal: 32.3s\tremaining: 16.6s\n",
            "661:\tlearn: 0.0001585\ttotal: 32.3s\tremaining: 16.5s\n",
            "662:\tlearn: 0.0001579\ttotal: 32.4s\tremaining: 16.5s\n",
            "663:\tlearn: 0.0001575\ttotal: 32.4s\tremaining: 16.4s\n",
            "664:\tlearn: 0.0001563\ttotal: 32.5s\tremaining: 16.4s\n",
            "665:\tlearn: 0.0001558\ttotal: 32.5s\tremaining: 16.3s\n",
            "666:\tlearn: 0.0001555\ttotal: 32.6s\tremaining: 16.3s\n",
            "667:\tlearn: 0.0001546\ttotal: 32.6s\tremaining: 16.2s\n",
            "668:\tlearn: 0.0001544\ttotal: 32.7s\tremaining: 16.2s\n",
            "669:\tlearn: 0.0001543\ttotal: 32.7s\tremaining: 16.1s\n",
            "670:\tlearn: 0.0001542\ttotal: 32.8s\tremaining: 16.1s\n",
            "671:\tlearn: 0.0001531\ttotal: 32.8s\tremaining: 16s\n",
            "672:\tlearn: 0.0001525\ttotal: 32.9s\tremaining: 16s\n",
            "673:\tlearn: 0.0001519\ttotal: 32.9s\tremaining: 15.9s\n",
            "674:\tlearn: 0.0001517\ttotal: 33s\tremaining: 15.9s\n",
            "675:\tlearn: 0.0001515\ttotal: 33s\tremaining: 15.8s\n",
            "676:\tlearn: 0.0001512\ttotal: 33.1s\tremaining: 15.8s\n",
            "677:\tlearn: 0.0001505\ttotal: 33.1s\tremaining: 15.7s\n",
            "678:\tlearn: 0.0001503\ttotal: 33.2s\tremaining: 15.7s\n",
            "679:\tlearn: 0.0001495\ttotal: 33.2s\tremaining: 15.6s\n",
            "680:\tlearn: 0.0001491\ttotal: 33.3s\tremaining: 15.6s\n",
            "681:\tlearn: 0.0001489\ttotal: 33.3s\tremaining: 15.5s\n",
            "682:\tlearn: 0.0001481\ttotal: 33.4s\tremaining: 15.5s\n",
            "683:\tlearn: 0.0001476\ttotal: 33.4s\tremaining: 15.4s\n",
            "684:\tlearn: 0.0001474\ttotal: 33.5s\tremaining: 15.4s\n",
            "685:\tlearn: 0.0001473\ttotal: 33.5s\tremaining: 15.3s\n",
            "686:\tlearn: 0.0001472\ttotal: 33.5s\tremaining: 15.3s\n",
            "687:\tlearn: 0.0001470\ttotal: 33.6s\tremaining: 15.2s\n",
            "688:\tlearn: 0.0001465\ttotal: 33.6s\tremaining: 15.2s\n",
            "689:\tlearn: 0.0001457\ttotal: 33.7s\tremaining: 15.1s\n",
            "690:\tlearn: 0.0001454\ttotal: 33.7s\tremaining: 15.1s\n",
            "691:\tlearn: 0.0001453\ttotal: 33.8s\tremaining: 15s\n",
            "692:\tlearn: 0.0001452\ttotal: 33.8s\tremaining: 15s\n",
            "693:\tlearn: 0.0001443\ttotal: 33.9s\tremaining: 14.9s\n",
            "694:\tlearn: 0.0001442\ttotal: 33.9s\tremaining: 14.9s\n",
            "695:\tlearn: 0.0001437\ttotal: 34s\tremaining: 14.8s\n",
            "696:\tlearn: 0.0001433\ttotal: 34s\tremaining: 14.8s\n",
            "697:\tlearn: 0.0001432\ttotal: 34.1s\tremaining: 14.7s\n",
            "698:\tlearn: 0.0001426\ttotal: 34.1s\tremaining: 14.7s\n",
            "699:\tlearn: 0.0001425\ttotal: 34.2s\tremaining: 14.6s\n",
            "700:\tlearn: 0.0001424\ttotal: 34.2s\tremaining: 14.6s\n",
            "701:\tlearn: 0.0001419\ttotal: 34.3s\tremaining: 14.5s\n",
            "702:\tlearn: 0.0001419\ttotal: 34.3s\tremaining: 14.5s\n",
            "703:\tlearn: 0.0001418\ttotal: 34.4s\tremaining: 14.4s\n",
            "704:\tlearn: 0.0001409\ttotal: 34.4s\tremaining: 14.4s\n",
            "705:\tlearn: 0.0001405\ttotal: 34.5s\tremaining: 14.4s\n",
            "706:\tlearn: 0.0001403\ttotal: 34.5s\tremaining: 14.3s\n",
            "707:\tlearn: 0.0001395\ttotal: 34.6s\tremaining: 14.3s\n",
            "708:\tlearn: 0.0001394\ttotal: 34.6s\tremaining: 14.2s\n",
            "709:\tlearn: 0.0001394\ttotal: 34.7s\tremaining: 14.2s\n",
            "710:\tlearn: 0.0001393\ttotal: 34.7s\tremaining: 14.1s\n",
            "711:\tlearn: 0.0001390\ttotal: 34.8s\tremaining: 14.1s\n",
            "712:\tlearn: 0.0001390\ttotal: 34.8s\tremaining: 14s\n",
            "713:\tlearn: 0.0001387\ttotal: 34.9s\tremaining: 14s\n",
            "714:\tlearn: 0.0001384\ttotal: 34.9s\tremaining: 13.9s\n",
            "715:\tlearn: 0.0001380\ttotal: 35s\tremaining: 13.9s\n",
            "716:\tlearn: 0.0001376\ttotal: 35s\tremaining: 13.8s\n",
            "717:\tlearn: 0.0001376\ttotal: 35.1s\tremaining: 13.8s\n",
            "718:\tlearn: 0.0001375\ttotal: 35.1s\tremaining: 13.7s\n",
            "719:\tlearn: 0.0001372\ttotal: 35.2s\tremaining: 13.7s\n",
            "720:\tlearn: 0.0001369\ttotal: 35.2s\tremaining: 13.6s\n",
            "721:\tlearn: 0.0001366\ttotal: 35.3s\tremaining: 13.6s\n",
            "722:\tlearn: 0.0001357\ttotal: 35.3s\tremaining: 13.5s\n",
            "723:\tlearn: 0.0001355\ttotal: 35.4s\tremaining: 13.5s\n",
            "724:\tlearn: 0.0001349\ttotal: 35.4s\tremaining: 13.4s\n",
            "725:\tlearn: 0.0001346\ttotal: 35.5s\tremaining: 13.4s\n",
            "726:\tlearn: 0.0001344\ttotal: 35.5s\tremaining: 13.3s\n",
            "727:\tlearn: 0.0001338\ttotal: 35.6s\tremaining: 13.3s\n",
            "728:\tlearn: 0.0001336\ttotal: 35.6s\tremaining: 13.2s\n",
            "729:\tlearn: 0.0001332\ttotal: 35.7s\tremaining: 13.2s\n",
            "730:\tlearn: 0.0001331\ttotal: 35.7s\tremaining: 13.1s\n",
            "731:\tlearn: 0.0001324\ttotal: 35.8s\tremaining: 13.1s\n",
            "732:\tlearn: 0.0001323\ttotal: 35.8s\tremaining: 13s\n",
            "733:\tlearn: 0.0001322\ttotal: 35.9s\tremaining: 13s\n",
            "734:\tlearn: 0.0001319\ttotal: 35.9s\tremaining: 12.9s\n",
            "735:\tlearn: 0.0001313\ttotal: 36s\tremaining: 12.9s\n",
            "736:\tlearn: 0.0001312\ttotal: 36s\tremaining: 12.8s\n",
            "737:\tlearn: 0.0001311\ttotal: 36s\tremaining: 12.8s\n",
            "738:\tlearn: 0.0001309\ttotal: 36.1s\tremaining: 12.8s\n",
            "739:\tlearn: 0.0001307\ttotal: 36.1s\tremaining: 12.7s\n",
            "740:\tlearn: 0.0001305\ttotal: 36.2s\tremaining: 12.7s\n",
            "741:\tlearn: 0.0001303\ttotal: 36.2s\tremaining: 12.6s\n",
            "742:\tlearn: 0.0001299\ttotal: 36.3s\tremaining: 12.6s\n",
            "743:\tlearn: 0.0001296\ttotal: 36.3s\tremaining: 12.5s\n",
            "744:\tlearn: 0.0001294\ttotal: 36.4s\tremaining: 12.5s\n",
            "745:\tlearn: 0.0001286\ttotal: 36.4s\tremaining: 12.4s\n",
            "746:\tlearn: 0.0001286\ttotal: 36.5s\tremaining: 12.4s\n",
            "747:\tlearn: 0.0001281\ttotal: 36.5s\tremaining: 12.3s\n",
            "748:\tlearn: 0.0001276\ttotal: 36.6s\tremaining: 12.3s\n",
            "749:\tlearn: 0.0001274\ttotal: 36.6s\tremaining: 12.2s\n",
            "750:\tlearn: 0.0001272\ttotal: 36.7s\tremaining: 12.2s\n",
            "751:\tlearn: 0.0001269\ttotal: 36.7s\tremaining: 12.1s\n",
            "752:\tlearn: 0.0001265\ttotal: 36.8s\tremaining: 12.1s\n",
            "753:\tlearn: 0.0001263\ttotal: 36.8s\tremaining: 12s\n",
            "754:\tlearn: 0.0001262\ttotal: 36.9s\tremaining: 12s\n",
            "755:\tlearn: 0.0001254\ttotal: 36.9s\tremaining: 11.9s\n",
            "756:\tlearn: 0.0001249\ttotal: 37s\tremaining: 11.9s\n",
            "757:\tlearn: 0.0001246\ttotal: 37s\tremaining: 11.8s\n",
            "758:\tlearn: 0.0001241\ttotal: 37.1s\tremaining: 11.8s\n",
            "759:\tlearn: 0.0001239\ttotal: 37.1s\tremaining: 11.7s\n",
            "760:\tlearn: 0.0001234\ttotal: 37.2s\tremaining: 11.7s\n",
            "761:\tlearn: 0.0001230\ttotal: 37.2s\tremaining: 11.6s\n",
            "762:\tlearn: 0.0001229\ttotal: 37.3s\tremaining: 11.6s\n",
            "763:\tlearn: 0.0001228\ttotal: 37.3s\tremaining: 11.5s\n",
            "764:\tlearn: 0.0001223\ttotal: 37.4s\tremaining: 11.5s\n",
            "765:\tlearn: 0.0001221\ttotal: 37.4s\tremaining: 11.4s\n",
            "766:\tlearn: 0.0001213\ttotal: 37.5s\tremaining: 11.4s\n",
            "767:\tlearn: 0.0001212\ttotal: 37.5s\tremaining: 11.3s\n",
            "768:\tlearn: 0.0001209\ttotal: 37.6s\tremaining: 11.3s\n",
            "769:\tlearn: 0.0001204\ttotal: 37.6s\tremaining: 11.2s\n",
            "770:\tlearn: 0.0001204\ttotal: 37.7s\tremaining: 11.2s\n",
            "771:\tlearn: 0.0001203\ttotal: 37.7s\tremaining: 11.1s\n",
            "772:\tlearn: 0.0001200\ttotal: 37.8s\tremaining: 11.1s\n",
            "773:\tlearn: 0.0001195\ttotal: 37.8s\tremaining: 11s\n",
            "774:\tlearn: 0.0001194\ttotal: 37.9s\tremaining: 11s\n",
            "775:\tlearn: 0.0001190\ttotal: 37.9s\tremaining: 10.9s\n",
            "776:\tlearn: 0.0001189\ttotal: 38s\tremaining: 10.9s\n",
            "777:\tlearn: 0.0001187\ttotal: 38s\tremaining: 10.8s\n",
            "778:\tlearn: 0.0001184\ttotal: 38s\tremaining: 10.8s\n",
            "779:\tlearn: 0.0001180\ttotal: 38.1s\tremaining: 10.7s\n",
            "780:\tlearn: 0.0001176\ttotal: 38.1s\tremaining: 10.7s\n",
            "781:\tlearn: 0.0001174\ttotal: 38.2s\tremaining: 10.6s\n",
            "782:\tlearn: 0.0001170\ttotal: 38.2s\tremaining: 10.6s\n",
            "783:\tlearn: 0.0001167\ttotal: 38.3s\tremaining: 10.5s\n",
            "784:\tlearn: 0.0001165\ttotal: 38.3s\tremaining: 10.5s\n",
            "785:\tlearn: 0.0001162\ttotal: 38.4s\tremaining: 10.5s\n",
            "786:\tlearn: 0.0001160\ttotal: 38.4s\tremaining: 10.4s\n",
            "787:\tlearn: 0.0001160\ttotal: 38.5s\tremaining: 10.4s\n",
            "788:\tlearn: 0.0001156\ttotal: 38.5s\tremaining: 10.3s\n",
            "789:\tlearn: 0.0001155\ttotal: 38.6s\tremaining: 10.3s\n",
            "790:\tlearn: 0.0001152\ttotal: 38.6s\tremaining: 10.2s\n",
            "791:\tlearn: 0.0001149\ttotal: 38.7s\tremaining: 10.2s\n",
            "792:\tlearn: 0.0001149\ttotal: 38.7s\tremaining: 10.1s\n",
            "793:\tlearn: 0.0001144\ttotal: 38.8s\tremaining: 10.1s\n",
            "794:\tlearn: 0.0001142\ttotal: 38.8s\tremaining: 10s\n",
            "795:\tlearn: 0.0001141\ttotal: 38.9s\tremaining: 9.96s\n",
            "796:\tlearn: 0.0001141\ttotal: 38.9s\tremaining: 9.91s\n",
            "797:\tlearn: 0.0001136\ttotal: 39s\tremaining: 9.86s\n",
            "798:\tlearn: 0.0001136\ttotal: 39s\tremaining: 9.81s\n",
            "799:\tlearn: 0.0001136\ttotal: 39s\tremaining: 9.76s\n",
            "800:\tlearn: 0.0001132\ttotal: 39.1s\tremaining: 9.71s\n",
            "801:\tlearn: 0.0001131\ttotal: 39.1s\tremaining: 9.66s\n",
            "802:\tlearn: 0.0001127\ttotal: 39.2s\tremaining: 9.61s\n",
            "803:\tlearn: 0.0001126\ttotal: 39.2s\tremaining: 9.56s\n",
            "804:\tlearn: 0.0001124\ttotal: 39.3s\tremaining: 9.52s\n",
            "805:\tlearn: 0.0001118\ttotal: 39.3s\tremaining: 9.47s\n",
            "806:\tlearn: 0.0001117\ttotal: 39.4s\tremaining: 9.42s\n",
            "807:\tlearn: 0.0001116\ttotal: 39.4s\tremaining: 9.37s\n",
            "808:\tlearn: 0.0001113\ttotal: 39.5s\tremaining: 9.32s\n",
            "809:\tlearn: 0.0001112\ttotal: 39.5s\tremaining: 9.27s\n",
            "810:\tlearn: 0.0001111\ttotal: 39.6s\tremaining: 9.22s\n",
            "811:\tlearn: 0.0001108\ttotal: 39.6s\tremaining: 9.17s\n",
            "812:\tlearn: 0.0001104\ttotal: 39.7s\tremaining: 9.12s\n",
            "813:\tlearn: 0.0001101\ttotal: 39.7s\tremaining: 9.07s\n",
            "814:\tlearn: 0.0001097\ttotal: 39.8s\tremaining: 9.03s\n",
            "815:\tlearn: 0.0001093\ttotal: 39.8s\tremaining: 8.98s\n",
            "816:\tlearn: 0.0001091\ttotal: 39.9s\tremaining: 8.93s\n",
            "817:\tlearn: 0.0001089\ttotal: 39.9s\tremaining: 8.88s\n",
            "818:\tlearn: 0.0001084\ttotal: 40s\tremaining: 8.83s\n",
            "819:\tlearn: 0.0001084\ttotal: 40s\tremaining: 8.78s\n",
            "820:\tlearn: 0.0001083\ttotal: 40.1s\tremaining: 8.73s\n",
            "821:\tlearn: 0.0001081\ttotal: 40.1s\tremaining: 8.69s\n",
            "822:\tlearn: 0.0001077\ttotal: 40.1s\tremaining: 8.63s\n",
            "823:\tlearn: 0.0001076\ttotal: 40.2s\tremaining: 8.59s\n",
            "824:\tlearn: 0.0001064\ttotal: 40.3s\tremaining: 8.54s\n",
            "825:\tlearn: 0.0001062\ttotal: 40.3s\tremaining: 8.49s\n",
            "826:\tlearn: 0.0001059\ttotal: 40.4s\tremaining: 8.44s\n",
            "827:\tlearn: 0.0001058\ttotal: 40.4s\tremaining: 8.39s\n",
            "828:\tlearn: 0.0001057\ttotal: 40.5s\tremaining: 8.35s\n",
            "829:\tlearn: 0.0001056\ttotal: 40.5s\tremaining: 8.3s\n",
            "830:\tlearn: 0.0001054\ttotal: 40.6s\tremaining: 8.25s\n",
            "831:\tlearn: 0.0001050\ttotal: 40.6s\tremaining: 8.2s\n",
            "832:\tlearn: 0.0001050\ttotal: 40.7s\tremaining: 8.15s\n",
            "833:\tlearn: 0.0001045\ttotal: 40.7s\tremaining: 8.1s\n",
            "834:\tlearn: 0.0001045\ttotal: 40.7s\tremaining: 8.05s\n",
            "835:\tlearn: 0.0001041\ttotal: 40.8s\tremaining: 8s\n",
            "836:\tlearn: 0.0001037\ttotal: 40.8s\tremaining: 7.96s\n",
            "837:\tlearn: 0.0001036\ttotal: 40.9s\tremaining: 7.91s\n",
            "838:\tlearn: 0.0001035\ttotal: 40.9s\tremaining: 7.86s\n",
            "839:\tlearn: 0.0001033\ttotal: 41s\tremaining: 7.81s\n",
            "840:\tlearn: 0.0001031\ttotal: 41s\tremaining: 7.76s\n",
            "841:\tlearn: 0.0001024\ttotal: 41.1s\tremaining: 7.71s\n",
            "842:\tlearn: 0.0001023\ttotal: 41.1s\tremaining: 7.66s\n",
            "843:\tlearn: 0.0001021\ttotal: 41.2s\tremaining: 7.61s\n",
            "844:\tlearn: 0.0001019\ttotal: 41.2s\tremaining: 7.56s\n",
            "845:\tlearn: 0.0001017\ttotal: 41.3s\tremaining: 7.51s\n",
            "846:\tlearn: 0.0001016\ttotal: 41.3s\tremaining: 7.46s\n",
            "847:\tlearn: 0.0001015\ttotal: 41.4s\tremaining: 7.42s\n",
            "848:\tlearn: 0.0001014\ttotal: 41.4s\tremaining: 7.37s\n",
            "849:\tlearn: 0.0001013\ttotal: 41.5s\tremaining: 7.32s\n",
            "850:\tlearn: 0.0001010\ttotal: 41.5s\tremaining: 7.27s\n",
            "851:\tlearn: 0.0001010\ttotal: 41.6s\tremaining: 7.22s\n",
            "852:\tlearn: 0.0001009\ttotal: 41.6s\tremaining: 7.17s\n",
            "853:\tlearn: 0.0001005\ttotal: 41.7s\tremaining: 7.12s\n",
            "854:\tlearn: 0.0001004\ttotal: 41.7s\tremaining: 7.07s\n",
            "855:\tlearn: 0.0001002\ttotal: 41.8s\tremaining: 7.03s\n",
            "856:\tlearn: 0.0001002\ttotal: 41.8s\tremaining: 6.97s\n",
            "857:\tlearn: 0.0001000\ttotal: 41.9s\tremaining: 6.93s\n",
            "858:\tlearn: 0.0000999\ttotal: 41.9s\tremaining: 6.88s\n",
            "859:\tlearn: 0.0000999\ttotal: 42s\tremaining: 6.83s\n",
            "860:\tlearn: 0.0000996\ttotal: 42s\tremaining: 6.78s\n",
            "861:\tlearn: 0.0000995\ttotal: 42.1s\tremaining: 6.73s\n",
            "862:\tlearn: 0.0000993\ttotal: 42.1s\tremaining: 6.68s\n",
            "863:\tlearn: 0.0000992\ttotal: 42.2s\tremaining: 6.63s\n",
            "864:\tlearn: 0.0000991\ttotal: 42.2s\tremaining: 6.58s\n",
            "865:\tlearn: 0.0000989\ttotal: 42.2s\tremaining: 6.54s\n",
            "866:\tlearn: 0.0000988\ttotal: 42.3s\tremaining: 6.49s\n",
            "867:\tlearn: 0.0000987\ttotal: 42.3s\tremaining: 6.44s\n",
            "868:\tlearn: 0.0000986\ttotal: 42.4s\tremaining: 6.39s\n",
            "869:\tlearn: 0.0000983\ttotal: 42.4s\tremaining: 6.34s\n",
            "870:\tlearn: 0.0000981\ttotal: 42.5s\tremaining: 6.29s\n",
            "871:\tlearn: 0.0000980\ttotal: 42.5s\tremaining: 6.25s\n",
            "872:\tlearn: 0.0000977\ttotal: 42.6s\tremaining: 6.2s\n",
            "873:\tlearn: 0.0000977\ttotal: 42.6s\tremaining: 6.14s\n",
            "874:\tlearn: 0.0000973\ttotal: 42.7s\tremaining: 6.1s\n",
            "875:\tlearn: 0.0000971\ttotal: 42.7s\tremaining: 6.05s\n",
            "876:\tlearn: 0.0000968\ttotal: 42.8s\tremaining: 6s\n",
            "877:\tlearn: 0.0000967\ttotal: 42.8s\tremaining: 5.95s\n",
            "878:\tlearn: 0.0000963\ttotal: 42.9s\tremaining: 5.9s\n",
            "879:\tlearn: 0.0000961\ttotal: 42.9s\tremaining: 5.85s\n",
            "880:\tlearn: 0.0000960\ttotal: 43s\tremaining: 5.8s\n",
            "881:\tlearn: 0.0000959\ttotal: 43s\tremaining: 5.75s\n",
            "882:\tlearn: 0.0000959\ttotal: 43.1s\tremaining: 5.71s\n",
            "883:\tlearn: 0.0000958\ttotal: 43.1s\tremaining: 5.66s\n",
            "884:\tlearn: 0.0000957\ttotal: 43.2s\tremaining: 5.61s\n",
            "885:\tlearn: 0.0000955\ttotal: 43.2s\tremaining: 5.56s\n",
            "886:\tlearn: 0.0000954\ttotal: 43.3s\tremaining: 5.51s\n",
            "887:\tlearn: 0.0000952\ttotal: 43.3s\tremaining: 5.46s\n",
            "888:\tlearn: 0.0000949\ttotal: 43.4s\tremaining: 5.41s\n",
            "889:\tlearn: 0.0000948\ttotal: 43.4s\tremaining: 5.36s\n",
            "890:\tlearn: 0.0000947\ttotal: 43.4s\tremaining: 5.31s\n",
            "891:\tlearn: 0.0000947\ttotal: 43.5s\tremaining: 5.27s\n",
            "892:\tlearn: 0.0000946\ttotal: 43.5s\tremaining: 5.22s\n",
            "893:\tlearn: 0.0000943\ttotal: 43.6s\tremaining: 5.17s\n",
            "894:\tlearn: 0.0000942\ttotal: 43.6s\tremaining: 5.12s\n",
            "895:\tlearn: 0.0000941\ttotal: 43.7s\tremaining: 5.07s\n",
            "896:\tlearn: 0.0000939\ttotal: 43.7s\tremaining: 5.02s\n",
            "897:\tlearn: 0.0000936\ttotal: 43.8s\tremaining: 4.97s\n",
            "898:\tlearn: 0.0000935\ttotal: 43.8s\tremaining: 4.92s\n",
            "899:\tlearn: 0.0000934\ttotal: 43.9s\tremaining: 4.88s\n",
            "900:\tlearn: 0.0000928\ttotal: 43.9s\tremaining: 4.83s\n",
            "901:\tlearn: 0.0000927\ttotal: 44s\tremaining: 4.78s\n",
            "902:\tlearn: 0.0000921\ttotal: 44s\tremaining: 4.73s\n",
            "903:\tlearn: 0.0000919\ttotal: 44.1s\tremaining: 4.68s\n",
            "904:\tlearn: 0.0000918\ttotal: 44.1s\tremaining: 4.63s\n",
            "905:\tlearn: 0.0000918\ttotal: 44.2s\tremaining: 4.58s\n",
            "906:\tlearn: 0.0000916\ttotal: 44.2s\tremaining: 4.54s\n",
            "907:\tlearn: 0.0000915\ttotal: 44.3s\tremaining: 4.49s\n",
            "908:\tlearn: 0.0000913\ttotal: 44.3s\tremaining: 4.44s\n",
            "909:\tlearn: 0.0000912\ttotal: 44.4s\tremaining: 4.39s\n",
            "910:\tlearn: 0.0000910\ttotal: 44.4s\tremaining: 4.34s\n",
            "911:\tlearn: 0.0000909\ttotal: 44.5s\tremaining: 4.29s\n",
            "912:\tlearn: 0.0000906\ttotal: 44.5s\tremaining: 4.24s\n",
            "913:\tlearn: 0.0000904\ttotal: 44.6s\tremaining: 4.19s\n",
            "914:\tlearn: 0.0000902\ttotal: 44.6s\tremaining: 4.14s\n",
            "915:\tlearn: 0.0000901\ttotal: 44.7s\tremaining: 4.09s\n",
            "916:\tlearn: 0.0000901\ttotal: 44.7s\tremaining: 4.05s\n",
            "917:\tlearn: 0.0000900\ttotal: 44.7s\tremaining: 4s\n",
            "918:\tlearn: 0.0000898\ttotal: 44.8s\tremaining: 3.95s\n",
            "919:\tlearn: 0.0000895\ttotal: 44.9s\tremaining: 3.9s\n",
            "920:\tlearn: 0.0000893\ttotal: 44.9s\tremaining: 3.85s\n",
            "921:\tlearn: 0.0000892\ttotal: 45s\tremaining: 3.8s\n",
            "922:\tlearn: 0.0000891\ttotal: 45s\tremaining: 3.75s\n",
            "923:\tlearn: 0.0000886\ttotal: 45.1s\tremaining: 3.71s\n",
            "924:\tlearn: 0.0000884\ttotal: 45.1s\tremaining: 3.66s\n",
            "925:\tlearn: 0.0000883\ttotal: 45.2s\tremaining: 3.61s\n",
            "926:\tlearn: 0.0000881\ttotal: 45.2s\tremaining: 3.56s\n",
            "927:\tlearn: 0.0000880\ttotal: 45.3s\tremaining: 3.51s\n",
            "928:\tlearn: 0.0000878\ttotal: 45.3s\tremaining: 3.46s\n",
            "929:\tlearn: 0.0000878\ttotal: 45.4s\tremaining: 3.41s\n",
            "930:\tlearn: 0.0000877\ttotal: 45.4s\tremaining: 3.37s\n",
            "931:\tlearn: 0.0000876\ttotal: 45.5s\tremaining: 3.32s\n",
            "932:\tlearn: 0.0000875\ttotal: 45.5s\tremaining: 3.27s\n",
            "933:\tlearn: 0.0000874\ttotal: 45.5s\tremaining: 3.22s\n",
            "934:\tlearn: 0.0000871\ttotal: 45.6s\tremaining: 3.17s\n",
            "935:\tlearn: 0.0000869\ttotal: 45.6s\tremaining: 3.12s\n",
            "936:\tlearn: 0.0000868\ttotal: 45.7s\tremaining: 3.07s\n",
            "937:\tlearn: 0.0000867\ttotal: 45.7s\tremaining: 3.02s\n",
            "938:\tlearn: 0.0000866\ttotal: 45.8s\tremaining: 2.97s\n",
            "939:\tlearn: 0.0000866\ttotal: 45.8s\tremaining: 2.92s\n",
            "940:\tlearn: 0.0000864\ttotal: 45.9s\tremaining: 2.88s\n",
            "941:\tlearn: 0.0000864\ttotal: 45.9s\tremaining: 2.83s\n",
            "942:\tlearn: 0.0000861\ttotal: 46s\tremaining: 2.78s\n",
            "943:\tlearn: 0.0000859\ttotal: 46s\tremaining: 2.73s\n",
            "944:\tlearn: 0.0000859\ttotal: 46.1s\tremaining: 2.68s\n",
            "945:\tlearn: 0.0000857\ttotal: 46.1s\tremaining: 2.63s\n",
            "946:\tlearn: 0.0000854\ttotal: 46.2s\tremaining: 2.58s\n",
            "947:\tlearn: 0.0000853\ttotal: 46.2s\tremaining: 2.54s\n",
            "948:\tlearn: 0.0000852\ttotal: 46.3s\tremaining: 2.49s\n",
            "949:\tlearn: 0.0000851\ttotal: 46.3s\tremaining: 2.44s\n",
            "950:\tlearn: 0.0000850\ttotal: 46.4s\tremaining: 2.39s\n",
            "951:\tlearn: 0.0000850\ttotal: 46.4s\tremaining: 2.34s\n",
            "952:\tlearn: 0.0000849\ttotal: 46.5s\tremaining: 2.29s\n",
            "953:\tlearn: 0.0000849\ttotal: 46.5s\tremaining: 2.24s\n",
            "954:\tlearn: 0.0000848\ttotal: 46.6s\tremaining: 2.19s\n",
            "955:\tlearn: 0.0000847\ttotal: 46.6s\tremaining: 2.15s\n",
            "956:\tlearn: 0.0000846\ttotal: 46.7s\tremaining: 2.1s\n",
            "957:\tlearn: 0.0000845\ttotal: 46.7s\tremaining: 2.05s\n",
            "958:\tlearn: 0.0000845\ttotal: 46.8s\tremaining: 2s\n",
            "959:\tlearn: 0.0000843\ttotal: 46.8s\tremaining: 1.95s\n",
            "960:\tlearn: 0.0000842\ttotal: 46.9s\tremaining: 1.9s\n",
            "961:\tlearn: 0.0000841\ttotal: 46.9s\tremaining: 1.85s\n",
            "962:\tlearn: 0.0000840\ttotal: 47s\tremaining: 1.8s\n",
            "963:\tlearn: 0.0000837\ttotal: 47s\tremaining: 1.75s\n",
            "964:\tlearn: 0.0000836\ttotal: 47.1s\tremaining: 1.71s\n",
            "965:\tlearn: 0.0000832\ttotal: 47.1s\tremaining: 1.66s\n",
            "966:\tlearn: 0.0000831\ttotal: 47.2s\tremaining: 1.61s\n",
            "967:\tlearn: 0.0000829\ttotal: 47.2s\tremaining: 1.56s\n",
            "968:\tlearn: 0.0000829\ttotal: 47.3s\tremaining: 1.51s\n",
            "969:\tlearn: 0.0000826\ttotal: 47.3s\tremaining: 1.46s\n",
            "970:\tlearn: 0.0000825\ttotal: 47.4s\tremaining: 1.41s\n",
            "971:\tlearn: 0.0000824\ttotal: 47.4s\tremaining: 1.36s\n",
            "972:\tlearn: 0.0000823\ttotal: 47.5s\tremaining: 1.32s\n",
            "973:\tlearn: 0.0000821\ttotal: 47.5s\tremaining: 1.27s\n",
            "974:\tlearn: 0.0000821\ttotal: 47.6s\tremaining: 1.22s\n",
            "975:\tlearn: 0.0000820\ttotal: 47.6s\tremaining: 1.17s\n",
            "976:\tlearn: 0.0000819\ttotal: 47.6s\tremaining: 1.12s\n",
            "977:\tlearn: 0.0000819\ttotal: 47.7s\tremaining: 1.07s\n",
            "978:\tlearn: 0.0000817\ttotal: 47.7s\tremaining: 1.02s\n",
            "979:\tlearn: 0.0000815\ttotal: 47.8s\tremaining: 975ms\n",
            "980:\tlearn: 0.0000813\ttotal: 47.8s\tremaining: 927ms\n",
            "981:\tlearn: 0.0000813\ttotal: 47.9s\tremaining: 878ms\n",
            "982:\tlearn: 0.0000811\ttotal: 48s\tremaining: 829ms\n",
            "983:\tlearn: 0.0000809\ttotal: 48s\tremaining: 781ms\n",
            "984:\tlearn: 0.0000808\ttotal: 48s\tremaining: 732ms\n",
            "985:\tlearn: 0.0000808\ttotal: 48.1s\tremaining: 683ms\n",
            "986:\tlearn: 0.0000808\ttotal: 48.1s\tremaining: 634ms\n",
            "987:\tlearn: 0.0000807\ttotal: 48.2s\tremaining: 585ms\n",
            "988:\tlearn: 0.0000806\ttotal: 48.2s\tremaining: 536ms\n",
            "989:\tlearn: 0.0000804\ttotal: 48.3s\tremaining: 488ms\n",
            "990:\tlearn: 0.0000803\ttotal: 48.3s\tremaining: 439ms\n",
            "991:\tlearn: 0.0000800\ttotal: 48.4s\tremaining: 390ms\n",
            "992:\tlearn: 0.0000800\ttotal: 48.4s\tremaining: 341ms\n",
            "993:\tlearn: 0.0000799\ttotal: 48.5s\tremaining: 293ms\n",
            "994:\tlearn: 0.0000798\ttotal: 48.5s\tremaining: 244ms\n",
            "995:\tlearn: 0.0000796\ttotal: 48.6s\tremaining: 195ms\n",
            "996:\tlearn: 0.0000796\ttotal: 48.6s\tremaining: 146ms\n",
            "997:\tlearn: 0.0000795\ttotal: 48.7s\tremaining: 97.5ms\n",
            "998:\tlearn: 0.0000795\ttotal: 48.7s\tremaining: 48.8ms\n",
            "999:\tlearn: 0.0000794\ttotal: 48.8s\tremaining: 0us\n"
          ]
        },
        {
          "output_type": "execute_result",
          "data": {
            "text/plain": [
              "0.8865897334447034"
            ]
          },
          "metadata": {},
          "execution_count": 79
        }
      ]
    },
    {
      "cell_type": "markdown",
      "metadata": {
        "id": "Ylkv0-x6Snal"
      },
      "source": [
        "LightGBM classifier:"
      ]
    },
    {
      "cell_type": "code",
      "metadata": {
        "colab": {
          "base_uri": "https://localhost:8080/"
        },
        "id": "M-gv0fAqSBAH",
        "outputId": "0edd32f8-b201-421c-f486-c3afabceb4a3"
      },
      "source": [
        "# LightGBM\n",
        "lgbm = LGBMClassifier()\n",
        "lgbm.fit(X_train[predictors.columns], Y_train)\n",
        "pred = lgbm.predict(valid_train[predictors.columns])\n",
        "roc_auc_score(valid_test.values, pred)"
      ],
      "execution_count": null,
      "outputs": [
        {
          "output_type": "execute_result",
          "data": {
            "text/plain": [
              "0.6244356032297299"
            ]
          },
          "metadata": {},
          "execution_count": 84
        }
      ]
    },
    {
      "cell_type": "markdown",
      "metadata": {
        "id": "M3cmT55tSqXi"
      },
      "source": [
        "Based on the ROC scores, it seems like the random forest gives the best predictions. We will use the catboost model to fit the test set."
      ]
    },
    {
      "cell_type": "markdown",
      "metadata": {
        "id": "_KZg3fpRTEcu"
      },
      "source": [
        "But before that lets explore the features that important from the random forest model"
      ]
    },
    {
      "cell_type": "code",
      "metadata": {
        "colab": {
          "base_uri": "https://localhost:8080/",
          "height": 445
        },
        "id": "zGVFutFiS1FG",
        "outputId": "815bd990-10dc-45be-ab3c-4a5ff84cb749"
      },
      "source": [
        "fi = pd.DataFrame(clf.feature_importances_, index=predictors.columns, columns=['Importance'])\n",
        "fi = fi.sort_values('Importance')\n",
        "fi.plot.barh(figsize=(12,7))"
      ],
      "execution_count": null,
      "outputs": [
        {
          "output_type": "execute_result",
          "data": {
            "text/plain": [
              "<matplotlib.axes._subplots.AxesSubplot at 0x7fe2cda4e850>"
            ]
          },
          "metadata": {},
          "execution_count": 86
        },
        {
          "output_type": "display_data",
          "data": {
            "image/png": "[encoded data removed]",
            "text/plain": [
              "<Figure size 864x504 with 1 Axes>"
            ]
          },
          "metadata": {}
        }
      ]
    },
    {
      "cell_type": "markdown",
      "metadata": {
        "id": "SnI5KMCDTkmu"
      },
      "source": [
        "Keeping a threshold of 0.6, we can see that V12, V17, V14, V10, V1 are the most important variables that are contributing to the prediction."
      ]
    },
    {
      "cell_type": "code",
      "metadata": {
        "colab": {
          "base_uri": "https://localhost:8080/"
        },
        "id": "MNyYoFOaW9yb",
        "outputId": "199091e0-c104-4b83-d9a0-d01922bf0bd8"
      },
      "source": [
        "pred = clf.predict(X_test[predictors.columns])\n",
        "roc_auc_score(Y_test.values, pred)"
      ],
      "execution_count": null,
      "outputs": [
        {
          "output_type": "execute_result",
          "data": {
            "text/plain": [
              "0.8723786363166538"
            ]
          },
          "metadata": {},
          "execution_count": 90
        }
      ]
    },
    {
      "cell_type": "markdown",
      "metadata": {
        "id": "Z9hW6iq0XY9G"
      },
      "source": [
        "We see a high test prediction with ROC score = 0.872378 using the CatBoost model."
      ]
    }
  ]
}